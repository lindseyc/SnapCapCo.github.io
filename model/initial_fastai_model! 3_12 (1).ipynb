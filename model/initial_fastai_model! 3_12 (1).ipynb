{
 "cells": [
  {
   "cell_type": "markdown",
   "metadata": {
    "colab_type": "text",
    "id": "LaJx1Px1xVdG"
   },
   "source": [
    "#Face Classification by Emotion\n"
   ]
  },
  {
   "cell_type": "markdown",
   "metadata": {
    "colab_type": "text",
    "id": "1i8Ssks8xVdJ"
   },
   "source": [
    "Welcome to lesson 1! For those of you who are using a Jupyter Notebook for the first time, you can learn about this useful tool in a tutorial we prepared specially for you; click `File`->`Open` now and click `00_notebook_tutorial.ipynb`. \n",
    "\n",
    "In this lesson we will build our first image classifier from scratch, and see if we can achieve world-class results. Let's dive in!\n",
    "\n",
    "Every notebook starts with the following three lines; they ensure that any edits to libraries you make are reloaded here automatically, and also that any charts or images displayed are shown in this notebook."
   ]
  },
  {
   "cell_type": "markdown",
   "metadata": {
    "colab_type": "text",
    "id": "GMRm-iKq-SOD"
   },
   "source": []
  },
  {
   "cell_type": "code",
   "execution_count": 1,
   "metadata": {
    "colab": {},
    "colab_type": "code",
    "id": "2V4UF6gsxVdK"
   },
   "outputs": [],
   "source": [
    "%reload_ext autoreload\n",
    "%autoreload 2\n",
    "%matplotlib inline"
   ]
  },
  {
   "cell_type": "markdown",
   "metadata": {
    "colab_type": "text",
    "id": "quLnimcfGj2w"
   },
   "source": [
    "possible fix for ImageCleaner bug -- install conda? currently conda is not recognized command\n"
   ]
  },
  {
   "cell_type": "code",
   "execution_count": null,
   "metadata": {
    "colab": {
     "base_uri": "https://localhost:8080/",
     "height": 51
    },
    "colab_type": "code",
    "id": "NegYp7Re2Wii",
    "outputId": "9deb8a87-4f19-4635-935e-822c3f52931e"
   },
   "outputs": [],
   "source": [
    "\n",
    "# conda update conda\n",
    "# conda install -c fastai fastai"
   ]
  },
  {
   "cell_type": "markdown",
   "metadata": {
    "colab_type": "text",
    "id": "kSiGeOYdxVdQ"
   },
   "source": [
    "We import all the necessary packages. We are going to work with the [fastai V1 library](http://www.fast.ai/2018/10/02/fastai-ai/) which sits on top of [Pytorch 1.0](https://hackernoon.com/pytorch-1-0-468332ba5163). The fastai library provides many useful functions that enable us to quickly and easily build neural networks and train our models."
   ]
  },
  {
   "cell_type": "code",
   "execution_count": 2,
   "metadata": {
    "colab": {},
    "colab_type": "code",
    "id": "EOWllhvpxVdR"
   },
   "outputs": [],
   "source": [
    "from fastai.vision import *\n",
    "from fastai.metrics import error_rate"
   ]
  },
  {
   "cell_type": "code",
   "execution_count": 3,
   "metadata": {
    "colab": {
     "base_uri": "https://localhost:8080/",
     "height": 34
    },
    "colab_type": "code",
    "id": "ZIvgnkzI-DBH",
    "outputId": "b77bfd4e-a270-4301-f60c-8860da8e7d66"
   },
   "outputs": [
    {
     "name": "stdout",
     "output_type": "stream",
     "text": [
      "00_notebook_tutorial.ipynb\r\n",
      "06_Gratitude_Up_Your_Happiness_Factor_488182127_lzf.jpg\r\n",
      "1-smile-smile.jpg\r\n",
      "1456450483903032.jpg\r\n",
      "14629458465_6eae5690a3_z1.jpg\r\n",
      "3-2-happy-person-png-clipart-thumb.png\r\n",
      "3DA81428-2189-43E2-85334C723D882F28_source.jpg\r\n",
      "427394C200000578-4707164-Happy_people_are_healthier_Some_65_percent_of_relevant_studies_f-m-21_1500384450707.jpg\r\n",
      "42948-happy-young-woman-eyes-closed1.jpg\r\n",
      "56a7e43b58c32378008b55c8-750.jpg\r\n",
      "5b9e7d542100003100c5f33e.jpeg\r\n",
      "635729578575874189854766385_a20759d7836367c3_happy.xxxlarge.jpg\r\n",
      "648_perks-of-happiness.jpg\r\n",
      "7565083.jpg\r\n",
      "7786106.jpg\r\n",
      "8813468-happy-girl-wallpaper.jpg\r\n",
      "A-grateful-person-is-a-happy-person.jpg\r\n",
      "Are-you-happy-with-who-you-are.jpg\r\n",
      "Are-you-truly-happy.jpg\r\n",
      "Brief-TooHappy-CrazySmile-small.jpg\r\n",
      "Class5Activity (Most Recent).ipynb\r\n",
      "Geniuenly-Happy-People.jpg\r\n",
      "Happiness.jpg\r\n",
      "Happy-Baby-Names.jpg\r\n",
      "Happy-Boy.jpg\r\n",
      "Happy-Man.jpg\r\n",
      "Happy-People.jpg\r\n",
      "Happy-Person-PNG-File.png\r\n",
      "Happy-Person-PNG-Picture.png\r\n",
      "Happy-Person-at-Work.jpg\r\n",
      "Happy-Person.jpg\r\n",
      "Happy.jpg\r\n",
      "Hapy-woman-in-the-rain.jpg\r\n",
      "Here-Are-7-Habits-All-Happy-People-Have.png\r\n",
      "Kriyananda-pranam-300x334.jpg\r\n",
      "SOHP.com-Happy-Girl-in-Fall-Leaves.jpg\r\n",
      "Senior-Couple-Sitting-On-Outdoor-Seat-Together.jpg\r\n",
      "_81787782_thinkstockphotos-122407402.jpg\r\n",
      "a-happy-person-stress-free.jpg\r\n",
      "art_of_laughter2.jpg\r\n",
      "awesome-ways-to-be-a-happier-person.jpg\r\n",
      "boy-992080_960_720.jpg\r\n",
      "cartoon-happy-person-eps-vector_csp15557547.jpg\r\n",
      "\u001b[0m\u001b[01;36mdata\u001b[0m@\r\n",
      "dd470f5b-634e-11e7-a52c-fd9cf0895f64.png\r\n",
      "dv2051009.jpg\r\n",
      "emma-kenny.jpg\r\n",
      "getty_143919450_970647970450097_58844.jpg\r\n",
      "getty_535201043_200013341818843182376_164151.jpg\r\n",
      "happiness-300px1.jpg\r\n",
      "happiness.jpg\r\n",
      "happiness0.jpg\r\n",
      "happiness1.jpg\r\n",
      "happy-baby-3-390x285.jpg\r\n",
      "happy-black-man.png\r\n",
      "happy-girl-field.jpg\r\n",
      "happy-man-1.jpeg\r\n",
      "happy-person-11545688384vamjrocgzq.png\r\n",
      "happy-person-11545688386mm7x5mgl2z.png\r\n",
      "happy-person-11545691810fan11zca4m.png\r\n",
      "happy-person-11545691823dhewjhqnec.png\r\n",
      "happy-person-picture-5a21f421c0cae2.9055000115121746257897.jpg\r\n",
      "happy-person.jpg\r\n",
      "happy-person.png\r\n",
      "happy-person0.jpg\r\n",
      "happy-person0.png\r\n",
      "happy-person1.jpg\r\n",
      "happy-person2.jpg\r\n",
      "happy-woman-4943.jpg\r\n",
      "happy-woman-isolated.jpg\r\n",
      "happy-woman-smiling-eyes-closed.jpg\r\n",
      "happy-woman-sunshine.jpg\r\n",
      "happy.jpeg\r\n",
      "happy.jpg\r\n",
      "happy0.jpg\r\n",
      "happy_person_png_641733.png\r\n",
      "hirsohn_anderson_rainsford_c3 (1).ipynb\r\n",
      "how-i-became-happy-person.jpg\r\n",
      "how-to-be-happy.jpg\r\n",
      "iStock-918377480-400x400.jpg\r\n",
      "image.jpg\r\n",
      "\u001b[01;34mimages\u001b[0m/\r\n",
      "initial_fastai_model!.ipynb\r\n",
      "intro_650x433.jpg\r\n",
      "laugh1_24055.jpg\r\n",
      "leaping-woman-p.jpeg\r\n",
      "lesson1-pets.ipynb\r\n",
      "lesson2-download.ipynb\r\n",
      "lesson2-sgd.ipynb\r\n",
      "lesson3-camvid-tiramisu.ipynb\r\n",
      "lesson3-camvid.ipynb\r\n",
      "lesson3-head-pose.ipynb\r\n",
      "lesson3-imdb.ipynb\r\n",
      "lesson3-planet.ipynb\r\n",
      "lesson4-collab.ipynb\r\n",
      "lesson4-tabular.ipynb\r\n",
      "lesson5-sgd-mnist.ipynb\r\n",
      "lesson6-pets-more.ipynb\r\n",
      "lesson6-rossmann.ipynb\r\n",
      "lesson7-human-numbers.ipynb\r\n",
      "lesson7-resnet-mnist.ipynb\r\n",
      "lesson7-superres-gan.ipynb\r\n",
      "lesson7-superres-imagenet.ipynb\r\n",
      "lesson7-superres.ipynb\r\n",
      "lesson7-wgan.ipynb\r\n",
      "modi-policy-story_647_111616042241_051617061637.jpg\r\n",
      "o-BIG-SMILE-570.jpg\r\n",
      "o-HAPPY-facebook.jpg\r\n",
      "o17BxS-happy-person-picture.png\r\n",
      "oldlady425-425x239.jpg\r\n",
      "pexels-photo-1282169.jpeg\r\n",
      "physed-happiness-facebookJumbo.jpg\r\n",
      "positive-people.jpg\r\n",
      "riskshappypeopletakeh_1384254283_1100x513.jpg\r\n",
      "rossman_data_clean.ipynb\r\n",
      "shutterstock_139764052.jpg\r\n",
      "shutterstock_387122728.jpg\r\n",
      "smiling-makes-you-happy-1.jpg\r\n",
      "successful-deal-happy-person-powerful-manager-713736.jpg\r\n",
      "sunglasses-summer-model-happy.jpg\r\n",
      "take-back-life.jpg\r\n",
      "troy-stoneking.jpg\r\n",
      "what-makes-people-happy1.jpg\r\n",
      "xfmd5dd1635424813229150675.jpg\r\n"
     ]
    }
   ],
   "source": [
    "ls"
   ]
  },
  {
   "cell_type": "code",
   "execution_count": null,
   "metadata": {
    "colab": {},
    "colab_type": "code",
    "id": "mQgVf0b40rTE"
   },
   "outputs": [],
   "source": [
    "# mkdir data"
   ]
  },
  {
   "cell_type": "markdown",
   "metadata": {
    "colab_type": "text",
    "id": "O_rQ6sghxVdT"
   },
   "source": [
    "If you're using a computer with an unusually small GPU, you may get an out of memory error when running this notebook. If this happens, click Kernel->Restart, uncomment the 2nd line below to use a smaller *batch size* (you'll learn all about what this means during the course), and try again."
   ]
  },
  {
   "cell_type": "code",
   "execution_count": 4,
   "metadata": {
    "colab": {},
    "colab_type": "code",
    "id": "hTVAQvGMxVdU"
   },
   "outputs": [],
   "source": [
    "#bs = 64\n",
    "bs = 16   # uncomment this line if you run out of memory even after clicking Kernel->Restart"
   ]
  },
  {
   "cell_type": "markdown",
   "metadata": {
    "colab_type": "text",
    "id": "QrGllU77xVdW"
   },
   "source": [
    "## Looking at the data"
   ]
  },
  {
   "cell_type": "markdown",
   "metadata": {
    "colab_type": "text",
    "id": "z31jq5sSxVdX"
   },
   "source": [
    "We are going to use the [Oxford-IIIT Pet Dataset](http://www.robots.ox.ac.uk/~vgg/data/pets/) by [O. M. Parkhi et al., 2012](http://www.robots.ox.ac.uk/~vgg/publications/2012/parkhi12a/parkhi12a.pdf) which features 12 cat breeds and 25 dogs breeds. Our model will need to learn to differentiate between these 37 distinct categories. According to their paper, the best accuracy they could get in 2012 was 59.21%, using a complex model that was specific to pet detection, with separate \"Image\", \"Head\", and \"Body\" models for the pet photos. Let's see how accurate we can be using deep learning!\n",
    "\n",
    "We are going to use the `untar_data` function to which we must pass a URL as an argument and which will download and extract the data."
   ]
  },
  {
   "cell_type": "code",
   "execution_count": 5,
   "metadata": {
    "colab": {
     "base_uri": "https://localhost:8080/",
     "height": 34
    },
    "colab_type": "code",
    "id": "aufaSjKo6baV",
    "outputId": "c73c36bf-3642-4a4c-ac1f-4fe26c309f21"
   },
   "outputs": [
    {
     "name": "stdout",
     "output_type": "stream",
     "text": [
      "00_notebook_tutorial.ipynb\r\n",
      "06_Gratitude_Up_Your_Happiness_Factor_488182127_lzf.jpg\r\n",
      "1-smile-smile.jpg\r\n",
      "1456450483903032.jpg\r\n",
      "14629458465_6eae5690a3_z1.jpg\r\n",
      "3-2-happy-person-png-clipart-thumb.png\r\n",
      "3DA81428-2189-43E2-85334C723D882F28_source.jpg\r\n",
      "427394C200000578-4707164-Happy_people_are_healthier_Some_65_percent_of_relevant_studies_f-m-21_1500384450707.jpg\r\n",
      "42948-happy-young-woman-eyes-closed1.jpg\r\n",
      "56a7e43b58c32378008b55c8-750.jpg\r\n",
      "5b9e7d542100003100c5f33e.jpeg\r\n",
      "635729578575874189854766385_a20759d7836367c3_happy.xxxlarge.jpg\r\n",
      "648_perks-of-happiness.jpg\r\n",
      "7565083.jpg\r\n",
      "7786106.jpg\r\n",
      "8813468-happy-girl-wallpaper.jpg\r\n",
      "A-grateful-person-is-a-happy-person.jpg\r\n",
      "Are-you-happy-with-who-you-are.jpg\r\n",
      "Are-you-truly-happy.jpg\r\n",
      "Brief-TooHappy-CrazySmile-small.jpg\r\n",
      "Class5Activity (Most Recent).ipynb\r\n",
      "Geniuenly-Happy-People.jpg\r\n",
      "Happiness.jpg\r\n",
      "Happy-Baby-Names.jpg\r\n",
      "Happy-Boy.jpg\r\n",
      "Happy-Man.jpg\r\n",
      "Happy-People.jpg\r\n",
      "Happy-Person-PNG-File.png\r\n",
      "Happy-Person-PNG-Picture.png\r\n",
      "Happy-Person-at-Work.jpg\r\n",
      "Happy-Person.jpg\r\n",
      "Happy.jpg\r\n",
      "Hapy-woman-in-the-rain.jpg\r\n",
      "Here-Are-7-Habits-All-Happy-People-Have.png\r\n",
      "Kriyananda-pranam-300x334.jpg\r\n",
      "SOHP.com-Happy-Girl-in-Fall-Leaves.jpg\r\n",
      "Senior-Couple-Sitting-On-Outdoor-Seat-Together.jpg\r\n",
      "_81787782_thinkstockphotos-122407402.jpg\r\n",
      "a-happy-person-stress-free.jpg\r\n",
      "art_of_laughter2.jpg\r\n",
      "awesome-ways-to-be-a-happier-person.jpg\r\n",
      "boy-992080_960_720.jpg\r\n",
      "cartoon-happy-person-eps-vector_csp15557547.jpg\r\n",
      "data\r\n",
      "dd470f5b-634e-11e7-a52c-fd9cf0895f64.png\r\n",
      "dv2051009.jpg\r\n",
      "emma-kenny.jpg\r\n",
      "getty_143919450_970647970450097_58844.jpg\r\n",
      "getty_535201043_200013341818843182376_164151.jpg\r\n",
      "happiness-300px1.jpg\r\n",
      "happiness.jpg\r\n",
      "happiness0.jpg\r\n",
      "happiness1.jpg\r\n",
      "happy-baby-3-390x285.jpg\r\n",
      "happy-black-man.png\r\n",
      "happy-girl-field.jpg\r\n",
      "happy-man-1.jpeg\r\n",
      "happy-person-11545688384vamjrocgzq.png\r\n",
      "happy-person-11545688386mm7x5mgl2z.png\r\n",
      "happy-person-11545691810fan11zca4m.png\r\n",
      "happy-person-11545691823dhewjhqnec.png\r\n",
      "happy-person-picture-5a21f421c0cae2.9055000115121746257897.jpg\r\n",
      "happy-person.jpg\r\n",
      "happy-person.png\r\n",
      "happy-person0.jpg\r\n",
      "happy-person0.png\r\n",
      "happy-person1.jpg\r\n",
      "happy-person2.jpg\r\n",
      "happy-woman-4943.jpg\r\n",
      "happy-woman-isolated.jpg\r\n",
      "happy-woman-smiling-eyes-closed.jpg\r\n",
      "happy-woman-sunshine.jpg\r\n",
      "happy.jpeg\r\n",
      "happy.jpg\r\n",
      "happy0.jpg\r\n",
      "happy_person_png_641733.png\r\n",
      "hirsohn_anderson_rainsford_c3 (1).ipynb\r\n",
      "how-i-became-happy-person.jpg\r\n",
      "how-to-be-happy.jpg\r\n",
      "iStock-918377480-400x400.jpg\r\n",
      "image.jpg\r\n",
      "images\r\n",
      "initial_fastai_model!.ipynb\r\n",
      "intro_650x433.jpg\r\n",
      "laugh1_24055.jpg\r\n",
      "leaping-woman-p.jpeg\r\n",
      "lesson1-pets.ipynb\r\n",
      "lesson2-download.ipynb\r\n",
      "lesson2-sgd.ipynb\r\n",
      "lesson3-camvid-tiramisu.ipynb\r\n",
      "lesson3-camvid.ipynb\r\n",
      "lesson3-head-pose.ipynb\r\n",
      "lesson3-imdb.ipynb\r\n",
      "lesson3-planet.ipynb\r\n",
      "lesson4-collab.ipynb\r\n",
      "lesson4-tabular.ipynb\r\n",
      "lesson5-sgd-mnist.ipynb\r\n",
      "lesson6-pets-more.ipynb\r\n",
      "lesson6-rossmann.ipynb\r\n",
      "lesson7-human-numbers.ipynb\r\n",
      "lesson7-resnet-mnist.ipynb\r\n",
      "lesson7-superres-gan.ipynb\r\n",
      "lesson7-superres-imagenet.ipynb\r\n",
      "lesson7-superres.ipynb\r\n",
      "lesson7-wgan.ipynb\r\n",
      "modi-policy-story_647_111616042241_051617061637.jpg\r\n",
      "o-BIG-SMILE-570.jpg\r\n",
      "o-HAPPY-facebook.jpg\r\n",
      "o17BxS-happy-person-picture.png\r\n",
      "oldlady425-425x239.jpg\r\n",
      "pexels-photo-1282169.jpeg\r\n",
      "physed-happiness-facebookJumbo.jpg\r\n",
      "positive-people.jpg\r\n",
      "riskshappypeopletakeh_1384254283_1100x513.jpg\r\n",
      "rossman_data_clean.ipynb\r\n",
      "shutterstock_139764052.jpg\r\n",
      "shutterstock_387122728.jpg\r\n",
      "smiling-makes-you-happy-1.jpg\r\n",
      "successful-deal-happy-person-powerful-manager-713736.jpg\r\n",
      "sunglasses-summer-model-happy.jpg\r\n",
      "take-back-life.jpg\r\n",
      "troy-stoneking.jpg\r\n",
      "what-makes-people-happy1.jpg\r\n",
      "xfmd5dd1635424813229150675.jpg\r\n"
     ]
    }
   ],
   "source": [
    "!ls"
   ]
  },
  {
   "cell_type": "code",
   "execution_count": 6,
   "metadata": {
    "colab": {},
    "colab_type": "code",
    "id": "pJoYwKrU8sRb"
   },
   "outputs": [],
   "source": [
    "!mkdir data/happy\n"
   ]
  },
  {
   "cell_type": "code",
   "execution_count": 8,
   "metadata": {
    "colab": {
     "base_uri": "https://localhost:8080/",
     "height": 34
    },
    "colab_type": "code",
    "id": "nl2xmaDPHLM-",
    "outputId": "82a2a5f1-1223-49fe-a377-55ba7c911cc8"
   },
   "outputs": [
    {
     "name": "stdout",
     "output_type": "stream",
     "text": [
      "00_notebook_tutorial.ipynb\r\n",
      "06_Gratitude_Up_Your_Happiness_Factor_488182127_lzf.jpg\r\n",
      "1-smile-smile.jpg\r\n",
      "1456450483903032.jpg\r\n",
      "14629458465_6eae5690a3_z1.jpg\r\n",
      "3-2-happy-person-png-clipart-thumb.png\r\n",
      "3DA81428-2189-43E2-85334C723D882F28_source.jpg\r\n",
      "427394C200000578-4707164-Happy_people_are_healthier_Some_65_percent_of_relevant_studies_f-m-21_1500384450707.jpg\r\n",
      "42948-happy-young-woman-eyes-closed1.jpg\r\n",
      "56a7e43b58c32378008b55c8-750.jpg\r\n",
      "5b9e7d542100003100c5f33e.jpeg\r\n",
      "635729578575874189854766385_a20759d7836367c3_happy.xxxlarge.jpg\r\n",
      "648_perks-of-happiness.jpg\r\n",
      "7565083.jpg\r\n",
      "7786106.jpg\r\n",
      "8813468-happy-girl-wallpaper.jpg\r\n",
      "A-grateful-person-is-a-happy-person.jpg\r\n",
      "Are-you-happy-with-who-you-are.jpg\r\n",
      "Are-you-truly-happy.jpg\r\n",
      "Brief-TooHappy-CrazySmile-small.jpg\r\n",
      "Class5Activity (Most Recent).ipynb\r\n",
      "Geniuenly-Happy-People.jpg\r\n",
      "Happiness.jpg\r\n",
      "Happy-Baby-Names.jpg\r\n",
      "Happy-Boy.jpg\r\n",
      "Happy-Man.jpg\r\n",
      "Happy-People.jpg\r\n",
      "Happy-Person-PNG-File.png\r\n",
      "Happy-Person-PNG-Picture.png\r\n",
      "Happy-Person-at-Work.jpg\r\n",
      "Happy-Person.jpg\r\n",
      "Happy.jpg\r\n",
      "Hapy-woman-in-the-rain.jpg\r\n",
      "Here-Are-7-Habits-All-Happy-People-Have.png\r\n",
      "Kriyananda-pranam-300x334.jpg\r\n",
      "SOHP.com-Happy-Girl-in-Fall-Leaves.jpg\r\n",
      "Senior-Couple-Sitting-On-Outdoor-Seat-Together.jpg\r\n",
      "_81787782_thinkstockphotos-122407402.jpg\r\n",
      "a-happy-person-stress-free.jpg\r\n",
      "art_of_laughter2.jpg\r\n",
      "awesome-ways-to-be-a-happier-person.jpg\r\n",
      "boy-992080_960_720.jpg\r\n",
      "cartoon-happy-person-eps-vector_csp15557547.jpg\r\n",
      "data\r\n",
      "dd470f5b-634e-11e7-a52c-fd9cf0895f64.png\r\n",
      "dv2051009.jpg\r\n",
      "emma-kenny.jpg\r\n",
      "getty_143919450_970647970450097_58844.jpg\r\n",
      "getty_535201043_200013341818843182376_164151.jpg\r\n",
      "happiness-300px1.jpg\r\n",
      "happiness.jpg\r\n",
      "happiness0.jpg\r\n",
      "happiness1.jpg\r\n",
      "happy-baby-3-390x285.jpg\r\n",
      "happy-black-man.png\r\n",
      "happy-girl-field.jpg\r\n",
      "happy-man-1.jpeg\r\n",
      "happy-person-11545688384vamjrocgzq.png\r\n",
      "happy-person-11545688386mm7x5mgl2z.png\r\n",
      "happy-person-11545691810fan11zca4m.png\r\n",
      "happy-person-11545691823dhewjhqnec.png\r\n",
      "happy-person-picture-5a21f421c0cae2.9055000115121746257897.jpg\r\n",
      "happy-person.jpg\r\n",
      "happy-person.png\r\n",
      "happy-person0.jpg\r\n",
      "happy-person0.png\r\n",
      "happy-person1.jpg\r\n",
      "happy-person2.jpg\r\n",
      "happy-woman-4943.jpg\r\n",
      "happy-woman-isolated.jpg\r\n",
      "happy-woman-smiling-eyes-closed.jpg\r\n",
      "happy-woman-sunshine.jpg\r\n",
      "happy.jpeg\r\n",
      "happy.jpg\r\n",
      "happy0.jpg\r\n",
      "happy_person_png_641733.png\r\n",
      "hirsohn_anderson_rainsford_c3 (1).ipynb\r\n",
      "how-i-became-happy-person.jpg\r\n",
      "how-to-be-happy.jpg\r\n",
      "iStock-918377480-400x400.jpg\r\n",
      "image.jpg\r\n",
      "images\r\n",
      "initial_fastai_model!.ipynb\r\n",
      "intro_650x433.jpg\r\n",
      "laugh1_24055.jpg\r\n",
      "leaping-woman-p.jpeg\r\n",
      "lesson1-pets.ipynb\r\n",
      "lesson2-download.ipynb\r\n",
      "lesson2-sgd.ipynb\r\n",
      "lesson3-camvid-tiramisu.ipynb\r\n",
      "lesson3-camvid.ipynb\r\n",
      "lesson3-head-pose.ipynb\r\n",
      "lesson3-imdb.ipynb\r\n",
      "lesson3-planet.ipynb\r\n",
      "lesson4-collab.ipynb\r\n",
      "lesson4-tabular.ipynb\r\n",
      "lesson5-sgd-mnist.ipynb\r\n",
      "lesson6-pets-more.ipynb\r\n",
      "lesson6-rossmann.ipynb\r\n",
      "lesson7-human-numbers.ipynb\r\n",
      "lesson7-resnet-mnist.ipynb\r\n",
      "lesson7-superres-gan.ipynb\r\n",
      "lesson7-superres-imagenet.ipynb\r\n",
      "lesson7-superres.ipynb\r\n",
      "lesson7-wgan.ipynb\r\n",
      "modi-policy-story_647_111616042241_051617061637.jpg\r\n",
      "o-BIG-SMILE-570.jpg\r\n",
      "o-HAPPY-facebook.jpg\r\n",
      "o17BxS-happy-person-picture.png\r\n",
      "oldlady425-425x239.jpg\r\n",
      "pexels-photo-1282169.jpeg\r\n",
      "physed-happiness-facebookJumbo.jpg\r\n",
      "positive-people.jpg\r\n",
      "riskshappypeopletakeh_1384254283_1100x513.jpg\r\n",
      "rossman_data_clean.ipynb\r\n",
      "shutterstock_139764052.jpg\r\n",
      "shutterstock_387122728.jpg\r\n",
      "smiling-makes-you-happy-1.jpg\r\n",
      "successful-deal-happy-person-powerful-manager-713736.jpg\r\n",
      "sunglasses-summer-model-happy.jpg\r\n",
      "take-back-life.jpg\r\n",
      "troy-stoneking.jpg\r\n",
      "what-makes-people-happy1.jpg\r\n",
      "xfmd5dd1635424813229150675.jpg\r\n"
     ]
    }
   ],
   "source": [
    "!ls"
   ]
  },
  {
   "cell_type": "code",
   "execution_count": 7,
   "metadata": {
    "colab": {},
    "colab_type": "code",
    "id": "wUovqwwY9T4U"
   },
   "outputs": [
    {
     "name": "stdout",
     "output_type": "stream",
     "text": [
      "unzip:  cannot find or open data/happy/happyzip.zip, data/happy/happyzip.zip.zip or data/happy/happyzip.zip.ZIP.\r\n"
     ]
    }
   ],
   "source": [
    "!unzip data/happy/happyzip.zip -d data/happy\n"
   ]
  },
  {
   "cell_type": "code",
   "execution_count": 11,
   "metadata": {
    "colab": {},
    "colab_type": "code",
    "id": "-3jczXj89noa"
   },
   "outputs": [
    {
     "name": "stdout",
     "output_type": "stream",
     "text": [
      "Archive:  data/angry/angryzip.zip\n",
      "   creating: data/angry/angryzip/\n",
      "  inflating: data/angry/angryzip/.DS_Store  \n",
      "   creating: data/angry/__MACOSX/\n",
      "   creating: data/angry/__MACOSX/angryzip/\n",
      "  inflating: data/angry/__MACOSX/angryzip/._.DS_Store  \n",
      "  inflating: data/angry/angryzip/268279_preview.png  \n",
      "  inflating: data/angry/__MACOSX/angryzip/._268279_preview.png  \n",
      "  inflating: data/angry/angryzip/284913_preview.png  \n",
      "  inflating: data/angry/__MACOSX/angryzip/._284913_preview.png  \n",
      "  inflating: data/angry/angryzip/4155-165591.jpg  \n",
      "  inflating: data/angry/__MACOSX/angryzip/._4155-165591.jpg  \n",
      "  inflating: data/angry/angryzip/57-577124_angry-person-png-free-download-royal-enfield-signals.png  \n",
      "  inflating: data/angry/__MACOSX/angryzip/._57-577124_angry-person-png-free-download-royal-enfield-signals.png  \n",
      "  inflating: data/angry/angryzip/5bb48366250000320038fb82.jpeg  \n",
      "  inflating: data/angry/__MACOSX/angryzip/._5bb48366250000320038fb82.jpeg  \n",
      "  inflating: data/angry/angryzip/5c0b2d34dff7c4ac0461e02e_01257BA746CD44-450E-4280-972A-5F68B9500D96257D-main-article-6190.jpeg  \n",
      "  inflating: data/angry/__MACOSX/angryzip/._5c0b2d34dff7c4ac0461e02e_01257BA746CD44-450E-4280-972A-5F68B9500D96257D-main-article-6190.jpeg  \n",
      "  inflating: data/angry/angryzip/a-angry-person.jpg  \n",
      "  inflating: data/angry/__MACOSX/angryzip/._a-angry-person.jpg  \n",
      "  inflating: data/angry/angryzip/ad_220696309.jpg  \n",
      "  inflating: data/angry/__MACOSX/angryzip/._ad_220696309.jpg  \n",
      "  inflating: data/angry/angryzip/anger-18615__340.jpg  \n",
      "  inflating: data/angry/__MACOSX/angryzip/._anger-18615__340.jpg  \n",
      "  inflating: data/angry/angryzip/anger-title-image_tcm7-230128.jpg  \n",
      "  inflating: data/angry/__MACOSX/angryzip/._anger-title-image_tcm7-230128.jpg  \n",
      "  inflating: data/angry/angryzip/anger.jpg  \n",
      "  inflating: data/angry/__MACOSX/angryzip/._anger.jpg  \n",
      "  inflating: data/angry/angryzip/anger0.jpg  \n",
      "  inflating: data/angry/__MACOSX/angryzip/._anger0.jpg  \n",
      "  inflating: data/angry/angryzip/anger34.jpg  \n",
      "  inflating: data/angry/__MACOSX/angryzip/._anger34.jpg  \n",
      "  inflating: data/angry/angryzip/angry-03.jpg  \n",
      "  inflating: data/angry/__MACOSX/angryzip/._angry-03.jpg  \n",
      "  inflating: data/angry/angryzip/angry-2191104_1920.jpg  \n",
      "  inflating: data/angry/__MACOSX/angryzip/._angry-2191104_1920.jpg  \n",
      "  inflating: data/angry/angryzip/angry-clipart-497.png  \n",
      "  inflating: data/angry/__MACOSX/angryzip/._angry-clipart-497.png  \n",
      "  inflating: data/angry/angryzip/Angry-Couple_f2b9037c-cbae-4a6a-abd0-9c811e60666d-1900x700_c.png  \n",
      "  inflating: data/angry/__MACOSX/angryzip/._Angry-Couple_f2b9037c-cbae-4a6a-abd0-9c811e60666d-1900x700_c.png  \n",
      "  inflating: data/angry/angryzip/angry-dude.jpg  \n",
      "  inflating: data/angry/__MACOSX/angryzip/._angry-dude.jpg  \n",
      "  inflating: data/angry/angryzip/Angry-face.jpg  \n",
      "  inflating: data/angry/__MACOSX/angryzip/._Angry-face.jpg  \n",
      "  inflating: data/angry/angryzip/angry-feature-1000x667.jpg  \n",
      "  inflating: data/angry/__MACOSX/angryzip/._angry-feature-1000x667.jpg  \n",
      "  inflating: data/angry/angryzip/angry-man-1451250002.jpg  \n",
      "  inflating: data/angry/__MACOSX/angryzip/._angry-man-1451250002.jpg  \n",
      "  inflating: data/angry/angryzip/Angry-man-shouting-and-pointing-to-camera-studio-shot.jpg  \n",
      "  inflating: data/angry/__MACOSX/angryzip/._Angry-man-shouting-and-pointing-to-camera-studio-shot.jpg  \n",
      "  inflating: data/angry/angryzip/Angry-man.jpg  \n",
      "  inflating: data/angry/__MACOSX/angryzip/._Angry-man.jpg  \n",
      "  inflating: data/angry/angryzip/angry-old-person-e1278945403276.jpg  \n",
      "  inflating: data/angry/__MACOSX/angryzip/._angry-old-person-e1278945403276.jpg  \n",
      "  inflating: data/angry/angryzip/Angry-Person-PNG-Free-Image.png  \n",
      "  inflating: data/angry/__MACOSX/angryzip/._Angry-Person-PNG-Free-Image.png  \n",
      "  inflating: data/angry/angryzip/Angry-Person-PNG-Image-HD.png  \n",
      "  inflating: data/angry/__MACOSX/angryzip/._Angry-Person-PNG-Image-HD.png  \n",
      "  inflating: data/angry/angryzip/Angry-Person-PNG-Photo.png  \n",
      "  inflating: data/angry/__MACOSX/angryzip/._Angry-Person-PNG-Photo.png  \n",
      "  inflating: data/angry/angryzip/Angry-Person-PNG-Photos.png  \n",
      "  inflating: data/angry/__MACOSX/angryzip/._Angry-Person-PNG-Photos.png  \n",
      "  inflating: data/angry/angryzip/Angry-Person-PNG-Picture.png  \n",
      "  inflating: data/angry/__MACOSX/angryzip/._Angry-Person-PNG-Picture.png  \n",
      "  inflating: data/angry/angryzip/angry-person-png.png  \n",
      "  inflating: data/angry/__MACOSX/angryzip/._angry-person-png.png  \n",
      "  inflating: data/angry/angryzip/angry-person.jpg  \n",
      "  inflating: data/angry/__MACOSX/angryzip/._angry-person.jpg  \n",
      "  inflating: data/angry/angryzip/angry-person0.jpg  \n",
      "  inflating: data/angry/__MACOSX/angryzip/._angry-person0.jpg  \n",
      "  inflating: data/angry/angryzip/angry-person_OMTimes_bigstock-Angry-Frustrated-Man-With-Expl-191076652_header.png  \n",
      "  inflating: data/angry/__MACOSX/angryzip/._angry-person_OMTimes_bigstock-Angry-Frustrated-Man-With-Expl-191076652_header.png  \n",
      "  inflating: data/angry/angryzip/angry-punch.jpg  \n",
      "  inflating: data/angry/__MACOSX/angryzip/._angry-punch.jpg  \n",
      "  inflating: data/angry/angryzip/Angry.jpg  \n",
      "  inflating: data/angry/__MACOSX/angryzip/._Angry.jpg  \n",
      "  inflating: data/angry/angryzip/angry0.jpg  \n",
      "  inflating: data/angry/__MACOSX/angryzip/._angry0.jpg  \n",
      "  inflating: data/angry/angryzip/angry5.jpg  \n",
      "  inflating: data/angry/__MACOSX/angryzip/._angry5.jpg  \n",
      "  inflating: data/angry/angryzip/angry_couple_istock_0000154_620x3502.jpg  \n",
      "  inflating: data/angry/__MACOSX/angryzip/._angry_couple_istock_0000154_620x3502.jpg  \n",
      "  inflating: data/angry/angryzip/angry_face.jpeg  \n",
      "  inflating: data/angry/__MACOSX/angryzip/._angry_face.jpeg  \n",
      "  inflating: data/angry/angryzip/angry_person_png_40899.jpg  \n",
      "  inflating: data/angry/__MACOSX/angryzip/._angry_person_png_40899.jpg  \n",
      "  inflating: data/angry/angryzip/angry_young_woman.jpg  \n",
      "  inflating: data/angry/__MACOSX/angryzip/._angry_young_woman.jpg  \n",
      "  inflating: data/angry/angryzip/AngryGuyFotolia_59899458_S.jpg  \n",
      "  inflating: data/angry/__MACOSX/angryzip/._AngryGuyFotolia_59899458_S.jpg  \n",
      "  inflating: data/angry/angryzip/article_img1.png  \n",
      "  inflating: data/angry/__MACOSX/angryzip/._article_img1.png  \n",
      "  inflating: data/angry/angryzip/blog-anger-vanessa_hutd.jpg  \n",
      "  inflating: data/angry/__MACOSX/angryzip/._blog-anger-vanessa_hutd.jpg  \n",
      "  inflating: data/angry/angryzip/emotional-man-screaming-in-camera-man-emotionally-saying-something-angry-person-point-of-view-shot_r0w4myyp_thumbnail-full04.png  \n",
      "  inflating: data/angry/__MACOSX/angryzip/._emotional-man-screaming-in-camera-man-emotionally-saying-something-angry-person-point-of-view-shot_r0w4myyp_thumbnail-full04.png  \n",
      "  inflating: data/angry/angryzip/esa-05.jpg  \n",
      "  inflating: data/angry/__MACOSX/angryzip/._esa-05.jpg  \n",
      "  inflating: data/angry/angryzip/http3A2F2Fi.huffpost.com2Fgen2F4571652Fimages2Fs-CRAZY-EX-large640.jpg  \n",
      "  inflating: data/angry/__MACOSX/angryzip/._http3A2F2Fi.huffpost.com2Fgen2F4571652Fimages2Fs-CRAZY-EX-large640.jpg  \n",
      "  inflating: data/angry/angryzip/iStock_000001989323XSmall.jpg  \n",
      "  inflating: data/angry/__MACOSX/angryzip/._iStock_000001989323XSmall.jpg  \n",
      "  inflating: data/angry/angryzip/iStock_000008964742XSmall.jpg  \n",
      "  inflating: data/angry/__MACOSX/angryzip/._iStock_000008964742XSmall.jpg  \n",
      "  inflating: data/angry/angryzip/iStock_000010998923XSmall.jpg  \n",
      "  inflating: data/angry/__MACOSX/angryzip/._iStock_000010998923XSmall.jpg  \n",
      "  inflating: data/angry/angryzip/iStock_000011086631XSmall.jpg  \n",
      "  inflating: data/angry/__MACOSX/angryzip/._iStock_000011086631XSmall.jpg  \n",
      "  inflating: data/angry/angryzip/learn-to-communicate-with-an-angry-person.jpg  \n",
      "  inflating: data/angry/__MACOSX/angryzip/._learn-to-communicate-with-an-angry-person.jpg  \n",
      "  inflating: data/angry/angryzip/mad-person-puckered-lips-isolated-angry-over-white-55154756.jpg  \n",
      "  inflating: data/angry/__MACOSX/angryzip/._mad-person-puckered-lips-isolated-angry-over-white-55154756.jpg  \n",
      "  inflating: data/angry/angryzip/man-suit-angry-pointing-istock.jpg  \n",
      "  inflating: data/angry/__MACOSX/angryzip/._man-suit-angry-pointing-istock.jpg  \n",
      "  inflating: data/angry/angryzip/MEDLEY.jpg  \n",
      "  inflating: data/angry/__MACOSX/angryzip/._MEDLEY.jpg  \n",
      "  inflating: data/angry/angryzip/Powerful-Phrases-to-Calm-an-Angry-Child-that-Actually-Work-1.jpg  \n",
      "  inflating: data/angry/__MACOSX/angryzip/._Powerful-Phrases-to-Calm-an-Angry-Child-that-Actually-Work-1.jpg  \n",
      "  inflating: data/angry/angryzip/rccm_anger1.jpg  \n",
      "  inflating: data/angry/__MACOSX/angryzip/._rccm_anger1.jpg  \n",
      "  inflating: data/angry/angryzip/shutterstock_157245107.jpg  \n",
      "  inflating: data/angry/__MACOSX/angryzip/._shutterstock_157245107.jpg  \n",
      "  inflating: data/angry/angryzip/shutterstock_1575631371.jpg  \n",
      "  inflating: data/angry/__MACOSX/angryzip/._shutterstock_1575631371.jpg  \n",
      "  inflating: data/angry/angryzip/shutterstock_165211274_e3f1051c1050854ddd3c15c3dc5b0cf9.jpg  \n",
      "  inflating: data/angry/__MACOSX/angryzip/._shutterstock_165211274_e3f1051c1050854ddd3c15c3dc5b0cf9.jpg  \n",
      "  inflating: data/angry/angryzip/Upset-Woman-Person-Angry-Young-Isolated-Mad-3126437.jpg  \n",
      "  inflating: data/angry/__MACOSX/angryzip/._Upset-Woman-Person-Angry-Young-Isolated-Mad-3126437.jpg  \n",
      "  inflating: data/angry/angryzip/very-angry-woman-lg.jpg  \n",
      "  inflating: data/angry/__MACOSX/angryzip/._very-angry-woman-lg.jpg  \n",
      "  inflating: data/angry/angryzip/Young-Upset-Angry-Person-Mad-Irate-Annoyed-Woman-3126442.jpg  \n",
      "  inflating: data/angry/__MACOSX/angryzip/._Young-Upset-Angry-Person-Mad-Irate-Annoyed-Woman-3126442.jpg  \n",
      "  inflating: data/angry/__MACOSX/._angryzip  \n"
     ]
    }
   ],
   "source": [
    "\n",
    "!unzip data/angry/angryzip.zip -d data/angry"
   ]
  },
  {
   "cell_type": "code",
   "execution_count": 12,
   "metadata": {
    "colab": {},
    "colab_type": "code",
    "id": "nmXFoxyt9wsW"
   },
   "outputs": [
    {
     "name": "stdout",
     "output_type": "stream",
     "text": [
      "Archive:  data/disgusted/disgustedzip.zip\n",
      "   creating: data/disgusted/disgustedzip/\n",
      "  inflating: data/disgusted/disgustedzip/.DS_Store  \n",
      "   creating: data/disgusted/__MACOSX/\n",
      "   creating: data/disgusted/__MACOSX/disgustedzip/\n",
      "  inflating: data/disgusted/__MACOSX/disgustedzip/._.DS_Store  \n",
      "  inflating: data/disgusted/disgustedzip/105928-103553.jpg  \n",
      "  inflating: data/disgusted/__MACOSX/disgustedzip/._105928-103553.jpg  \n",
      "  inflating: data/disgusted/disgustedzip/141029124502_1_900x600.jpg  \n",
      "  inflating: data/disgusted/__MACOSX/disgustedzip/._141029124502_1_900x600.jpg  \n",
      "  inflating: data/disgusted/disgustedzip/17526663-scared-or-disgusted-man-in-a-blue-sweater.jpg  \n",
      "  inflating: data/disgusted/__MACOSX/disgustedzip/._17526663-scared-or-disgusted-man-in-a-blue-sweater.jpg  \n",
      "  inflating: data/disgusted/disgustedzip/17971250-disgusted-man.jpg  \n",
      "  inflating: data/disgusted/__MACOSX/disgustedzip/._17971250-disgusted-man.jpg  \n",
      "  inflating: data/disgusted/disgustedzip/18855415-the-disgusted-man.jpg  \n",
      "  inflating: data/disgusted/__MACOSX/disgustedzip/._18855415-the-disgusted-man.jpg  \n",
      "  inflating: data/disgusted/disgustedzip/20290325-disgusted-man.jpg  \n",
      "  inflating: data/disgusted/__MACOSX/disgustedzip/._20290325-disgusted-man.jpg  \n",
      "  inflating: data/disgusted/disgustedzip/22561300-disgusted-man-with-hands-in-air-horizontal.jpg  \n",
      "  inflating: data/disgusted/__MACOSX/disgustedzip/._22561300-disgusted-man-with-hands-in-air-horizontal.jpg  \n",
      "  inflating: data/disgusted/disgustedzip/234065095.jpg  \n",
      "  inflating: data/disgusted/__MACOSX/disgustedzip/._234065095.jpg  \n",
      "  inflating: data/disgusted/disgustedzip/35604754015_86a60c168d_b.jpg  \n",
      "  inflating: data/disgusted/__MACOSX/disgustedzip/._35604754015_86a60c168d_b.jpg  \n",
      "  inflating: data/disgusted/disgustedzip/400_F_120710544_YSRBBv3vFngkxQ72WTEcJ1H14LDU4qBT.jpg  \n",
      "  inflating: data/disgusted/__MACOSX/disgustedzip/._400_F_120710544_YSRBBv3vFngkxQ72WTEcJ1H14LDU4qBT.jpg  \n",
      "  inflating: data/disgusted/disgustedzip/400_F_171308975_N1amd9Q7ThFetLl8wydHnSfs425cym0B.jpg  \n",
      "  inflating: data/disgusted/__MACOSX/disgustedzip/._400_F_171308975_N1amd9Q7ThFetLl8wydHnSfs425cym0B.jpg  \n",
      "  inflating: data/disgusted/disgustedzip/400_F_201341732_FxIiAA6TJEDTlK6dN3F9wWzOBE7TnZHt.jpg  \n",
      "  inflating: data/disgusted/__MACOSX/disgustedzip/._400_F_201341732_FxIiAA6TJEDTlK6dN3F9wWzOBE7TnZHt.jpg  \n",
      "  inflating: data/disgusted/disgustedzip/500_F_157560167_BrwSQsgARqjF8DYw5tdAgNTlZfCwt3sv.jpg  \n",
      "  inflating: data/disgusted/__MACOSX/disgustedzip/._500_F_157560167_BrwSQsgARqjF8DYw5tdAgNTlZfCwt3sv.jpg  \n",
      "  inflating: data/disgusted/disgustedzip/500_F_210350260_XoyWyzQetUIbiqZqAs12r6bl4334nZGA.jpg  \n",
      "  inflating: data/disgusted/__MACOSX/disgustedzip/._500_F_210350260_XoyWyzQetUIbiqZqAs12r6bl4334nZGA.jpg  \n",
      "  inflating: data/disgusted/disgustedzip/500_F_211623347_gt45cM10k79sYQ7UNV0ce5HehgSIJbyq.jpg  \n",
      "  inflating: data/disgusted/__MACOSX/disgustedzip/._500_F_211623347_gt45cM10k79sYQ7UNV0ce5HehgSIJbyq.jpg  \n",
      "  inflating: data/disgusted/disgustedzip/500_F_219407575_flTxQ5h427jvrvb8vOnJQccDJ40gp6RK.jpg  \n",
      "  inflating: data/disgusted/__MACOSX/disgustedzip/._500_F_219407575_flTxQ5h427jvrvb8vOnJQccDJ40gp6RK.jpg  \n",
      "  inflating: data/disgusted/disgustedzip/59743500-the-portrait-of-disgusted-man-with-long-red-hair.jpg  \n",
      "  inflating: data/disgusted/__MACOSX/disgustedzip/._59743500-the-portrait-of-disgusted-man-with-long-red-hair.jpg  \n",
      "  inflating: data/disgusted/disgustedzip/61086616-portrait-of-a-disgusted-man-toned-photo-.jpg  \n",
      "  inflating: data/disgusted/__MACOSX/disgustedzip/._61086616-portrait-of-a-disgusted-man-toned-photo-.jpg  \n",
      "  inflating: data/disgusted/disgustedzip/61807823-disgusted-man-with-beard-makes-face-at-camera-while-wearing-plaid-shirt.jpg  \n",
      "  inflating: data/disgusted/__MACOSX/disgustedzip/._61807823-disgusted-man-with-beard-makes-face-at-camera-while-wearing-plaid-shirt.jpg  \n",
      "  inflating: data/disgusted/disgustedzip/65205558-disgusted-man-with-finger-in-mouth-displeased-ready-to-throw-up-isolated-on-gray-wall-background-hum.jpg  \n",
      "  inflating: data/disgusted/__MACOSX/disgustedzip/._65205558-disgusted-man-with-finger-in-mouth-displeased-ready-to-throw-up-isolated-on-gray-wall-background-hum.jpg  \n",
      "  inflating: data/disgusted/disgustedzip/72497425-disgusted-man-on-white-background.jpg  \n",
      "  inflating: data/disgusted/__MACOSX/disgustedzip/._72497425-disgusted-man-on-white-background.jpg  \n",
      "  inflating: data/disgusted/disgustedzip/72497532-disgusted-man-checks-his-breath.jpg  \n",
      "  inflating: data/disgusted/__MACOSX/disgustedzip/._72497532-disgusted-man-checks-his-breath.jpg  \n",
      "  inflating: data/disgusted/disgustedzip/7593515-disgusted-business-man.jpg  \n",
      "  inflating: data/disgusted/__MACOSX/disgustedzip/._7593515-disgusted-business-man.jpg  \n",
      "  inflating: data/disgusted/disgustedzip/8288075_stock-photo-the-portrait-of-disgusted-man.jpg  \n",
      "  inflating: data/disgusted/__MACOSX/disgustedzip/._8288075_stock-photo-the-portrait-of-disgusted-man.jpg  \n",
      "  inflating: data/disgusted/disgustedzip/8291898_stock-photo-the-portrait-of-disgusted-man.jpg  \n",
      "  inflating: data/disgusted/__MACOSX/disgustedzip/._8291898_stock-photo-the-portrait-of-disgusted-man.jpg  \n",
      "  inflating: data/disgusted/disgustedzip/90378408-disgusted-man-drinking-a-medicine-with-bad-taste-at-home.jpg  \n",
      "  inflating: data/disgusted/__MACOSX/disgustedzip/._90378408-disgusted-man-drinking-a-medicine-with-bad-taste-at-home.jpg  \n",
      "  inflating: data/disgusted/disgustedzip/a-disgusted-person-KARFCC.jpg  \n",
      "  inflating: data/disgusted/__MACOSX/disgustedzip/._a-disgusted-person-KARFCC.jpg  \n",
      "  inflating: data/disgusted/disgustedzip/c7dfa43688c424e4d533f73250d5a50a95e60aec.jpg  \n",
      "  inflating: data/disgusted/__MACOSX/disgustedzip/._c7dfa43688c424e4d533f73250d5a50a95e60aec.jpg  \n",
      "  inflating: data/disgusted/disgustedzip/canva-disgusted-man-MABlsshIQFI.jpg  \n",
      "  inflating: data/disgusted/__MACOSX/disgustedzip/._canva-disgusted-man-MABlsshIQFI.jpg  \n",
      "  inflating: data/disgusted/disgustedzip/confused-or-disgusted-person_hogfdoqc__F0006.png  \n",
      "  inflating: data/disgusted/__MACOSX/disgustedzip/._confused-or-disgusted-person_hogfdoqc__F0006.png  \n",
      "  inflating: data/disgusted/disgustedzip/D205_186_017_0004_600.jpg  \n",
      "  inflating: data/disgusted/__MACOSX/disgustedzip/._D205_186_017_0004_600.jpg  \n",
      "  inflating: data/disgusted/disgustedzip/depositphotos_134345562-stock-photo-man-on-white-background-looking.jpg  \n",
      "  inflating: data/disgusted/__MACOSX/disgustedzip/._depositphotos_134345562-stock-photo-man-on-white-background-looking.jpg  \n",
      "  inflating: data/disgusted/disgustedzip/depositphotos_210214528-stock-photo-young-tattooed-adult-man-disgusted.jpg  \n",
      "  inflating: data/disgusted/__MACOSX/disgustedzip/._depositphotos_210214528-stock-photo-young-tattooed-adult-man-disgusted.jpg  \n",
      "  inflating: data/disgusted/disgustedzip/depositphotos_226073676-stock-photo-handsome-senior-man-isolated-background.jpg  \n",
      "  inflating: data/disgusted/__MACOSX/disgustedzip/._depositphotos_226073676-stock-photo-handsome-senior-man-isolated-background.jpg  \n",
      "  inflating: data/disgusted/disgustedzip/depositphotos_39337923-stock-photo-disgusted-man.jpg  \n",
      "  inflating: data/disgusted/__MACOSX/disgustedzip/._depositphotos_39337923-stock-photo-disgusted-man.jpg  \n",
      "  inflating: data/disgusted/disgustedzip/df002d14a49cf5ef247887da97f47ac5520f3f5d.jpg  \n",
      "  inflating: data/disgusted/__MACOSX/disgustedzip/._df002d14a49cf5ef247887da97f47ac5520f3f5d.jpg  \n",
      "  inflating: data/disgusted/disgustedzip/Disgust-Cropped.jpg  \n",
      "  inflating: data/disgusted/__MACOSX/disgustedzip/._Disgust-Cropped.jpg  \n",
      "  inflating: data/disgusted/disgustedzip/disgust_0.jpg  \n",
      "  inflating: data/disgusted/__MACOSX/disgustedzip/._disgust_0.jpg  \n",
      "  inflating: data/disgusted/disgustedzip/disgusted-baby-2.jpg  \n",
      "  inflating: data/disgusted/__MACOSX/disgustedzip/._disgusted-baby-2.jpg  \n",
      "  inflating: data/disgusted/disgustedzip/disgusted-face.jpg  \n",
      "  inflating: data/disgusted/__MACOSX/disgustedzip/._disgusted-face.jpg  \n",
      "  inflating: data/disgusted/disgustedzip/disgusted-man-450w-311938889.jpg  \n",
      "  inflating: data/disgusted/__MACOSX/disgustedzip/._disgusted-man-450w-311938889.jpg  \n",
      "  inflating: data/disgusted/disgustedzip/disgusted-man-450w-381112120.jpg  \n",
      "  inflating: data/disgusted/__MACOSX/disgustedzip/._disgusted-man-450w-381112120.jpg  \n"
     ]
    },
    {
     "name": "stdout",
     "output_type": "stream",
     "text": [
      "  inflating: data/disgusted/disgustedzip/disgusted-man-450w-381112126.jpg  \n",
      "  inflating: data/disgusted/__MACOSX/disgustedzip/._disgusted-man-450w-381112126.jpg  \n",
      "  inflating: data/disgusted/disgustedzip/Disgusted-man-by-Brandon-Heyer-Creative-Commons.jpg  \n",
      "  inflating: data/disgusted/__MACOSX/disgustedzip/._Disgusted-man-by-Brandon-Heyer-Creative-Commons.jpg  \n",
      "  inflating: data/disgusted/disgustedzip/disgusted-man-ET49TJ.jpg  \n",
      "  inflating: data/disgusted/__MACOSX/disgustedzip/._disgusted-man-ET49TJ.jpg  \n",
      "  inflating: data/disgusted/disgustedzip/disgusted-man-picture_csp11102578.jpg  \n",
      "  inflating: data/disgusted/__MACOSX/disgustedzip/._disgusted-man-picture_csp11102578.jpg  \n",
      "  inflating: data/disgusted/disgustedzip/disgusted-man-pinches-nose-disgusted-something-stinks-bad-smell-fingers-looks-disgust-gray-background-human-face-78025105.jpg  \n",
      "  inflating: data/disgusted/__MACOSX/disgustedzip/._disgusted-man-pinches-nose-disgusted-something-stinks-bad-smell-fingers-looks-disgust-gray-background-human-face-78025105.jpg  \n",
      "  inflating: data/disgusted/disgustedzip/disgusted-man-pinches-nose-fingers-hands-looks-disgust-something-stinks-portrait-bad-smell-situation-gray-wall-60900805.jpg  \n",
      "  inflating: data/disgusted/__MACOSX/disgustedzip/._disgusted-man-pinches-nose-fingers-hands-looks-disgust-something-stinks-portrait-bad-smell-situation-gray-wall-60900805.jpg  \n",
      "  inflating: data/disgusted/disgustedzip/disgusted-man-pulling-a-disdainful-expression.jpg  \n",
      "  inflating: data/disgusted/__MACOSX/disgustedzip/._disgusted-man-pulling-a-disdainful-expression.jpg  \n",
      "  inflating: data/disgusted/disgustedzip/disgusted-man-stock-image-3993594.jpg  \n",
      "  inflating: data/disgusted/__MACOSX/disgustedzip/._disgusted-man-stock-image-3993594.jpg  \n",
      "  inflating: data/disgusted/disgustedzip/disgusted-man-stock-image__k15759045.jpg  \n",
      "  inflating: data/disgusted/__MACOSX/disgustedzip/._disgusted-man-stock-image__k15759045.jpg  \n",
      "  inflating: data/disgusted/disgustedzip/disgusted-man-stock-photo-4136877.jpg  \n",
      "  inflating: data/disgusted/__MACOSX/disgustedzip/._disgusted-man-stock-photo-4136877.jpg  \n",
      "  inflating: data/disgusted/disgustedzip/disgusted-man-stock-photos_csp38740935.jpg  \n",
      "  inflating: data/disgusted/__MACOSX/disgustedzip/._disgusted-man-stock-photos_csp38740935.jpg  \n",
      "  inflating: data/disgusted/disgustedzip/disgusted-man-stock-picture-3993592.jpg  \n",
      "  inflating: data/disgusted/__MACOSX/disgustedzip/._disgusted-man-stock-picture-3993592.jpg  \n",
      "  inflating: data/disgusted/disgustedzip/disgusted-man-unhappy-face-concept-450w-1127812340.jpg  \n",
      "  inflating: data/disgusted/__MACOSX/disgustedzip/._disgusted-man-unhappy-face-concept-450w-1127812340.jpg  \n",
      "  inflating: data/disgusted/disgustedzip/disgusted-man.jpg  \n",
      "  inflating: data/disgusted/__MACOSX/disgustedzip/._disgusted-man.jpg  \n",
      "  inflating: data/disgusted/disgustedzip/disgusted-man0.jpg  \n",
      "  inflating: data/disgusted/__MACOSX/disgustedzip/._disgusted-man0.jpg  \n",
      "  inflating: data/disgusted/disgustedzip/disgusted-shock-face-7783281_orig.jpg  \n",
      "  inflating: data/disgusted/__MACOSX/disgustedzip/._disgusted-shock-face-7783281_orig.jpg  \n",
      "  inflating: data/disgusted/disgustedzip/disgusted.jpg  \n",
      "  inflating: data/disgusted/__MACOSX/disgustedzip/._disgusted.jpg  \n",
      "  inflating: data/disgusted/disgustedzip/disgusted0.jpg  \n",
      "  inflating: data/disgusted/__MACOSX/disgustedzip/._disgusted0.jpg  \n",
      "  inflating: data/disgusted/disgustedzip/dreams.metroeve_disgusting-dreams-meaning.jpg  \n",
      "  inflating: data/disgusted/__MACOSX/disgustedzip/._dreams.metroeve_disgusting-dreams-meaning.jpg  \n",
      "  inflating: data/disgusted/disgustedzip/funny-weirdo-disgusted-man-holding-laptop_gg60041549.jpg  \n",
      "  inflating: data/disgusted/__MACOSX/disgustedzip/._funny-weirdo-disgusted-man-holding-laptop_gg60041549.jpg  \n",
      "  inflating: data/disgusted/disgustedzip/gettyimages-520925691-1200x800.jpg  \n",
      "  inflating: data/disgusted/__MACOSX/disgustedzip/._gettyimages-520925691-1200x800.jpg  \n",
      "  inflating: data/disgusted/disgustedzip/image-20150326-8689-1yuplza.jpg  \n",
      "  inflating: data/disgusted/__MACOSX/disgustedzip/._image-20150326-8689-1yuplza.jpg  \n",
      "  inflating: data/disgusted/disgustedzip/man-disgust-vegetables-fork365rr110509.jpg  \n",
      "  inflating: data/disgusted/__MACOSX/disgustedzip/._man-disgust-vegetables-fork365rr110509.jpg  \n",
      "  inflating: data/disgusted/disgustedzip/man-disgusted-stock-photo_csp42571443.jpg  \n",
      "  inflating: data/disgusted/__MACOSX/disgustedzip/._man-disgusted-stock-photo_csp42571443.jpg  \n",
      "  inflating: data/disgusted/disgustedzip/man-disgusted-stock-photograph_csp43763494.jpg  \n",
      "  inflating: data/disgusted/__MACOSX/disgustedzip/._man-disgusted-stock-photograph_csp43763494.jpg  \n",
      "  inflating: data/disgusted/disgustedzip/man-disgusted.jpg  \n",
      "  inflating: data/disgusted/__MACOSX/disgustedzip/._man-disgusted.jpg  \n",
      "  inflating: data/disgusted/disgustedzip/man-disgusted0.jpg  \n",
      "  inflating: data/disgusted/__MACOSX/disgustedzip/._man-disgusted0.jpg  \n",
      "  inflating: data/disgusted/disgustedzip/man-disgusted1.jpg  \n",
      "  inflating: data/disgusted/__MACOSX/disgustedzip/._man-disgusted1.jpg  \n",
      "  inflating: data/disgusted/disgustedzip/man-looks-disgusted_925x.jpg  \n",
      "  inflating: data/disgusted/__MACOSX/disgustedzip/._man-looks-disgusted_925x.jpg  \n",
      "  inflating: data/disgusted/disgustedzip/man-making-a-disgusted-face-X4RHN0.jpg  \n",
      "  inflating: data/disgusted/__MACOSX/disgustedzip/._man-making-a-disgusted-face-X4RHN0.jpg  \n",
      "  inflating: data/disgusted/disgustedzip/man-stands-with-some-disgusted-gestures-in-the-face-looking-at-camera-white-background_nknqtrui__F0000.png  \n",
      "  inflating: data/disgusted/__MACOSX/disgustedzip/._man-stands-with-some-disgusted-gestures-in-the-face-looking-at-camera-white-background_nknqtrui__F0000.png  \n",
      "  inflating: data/disgusted/disgustedzip/PAFF_121516_angerdisgustmorality-609x419.jpg  \n",
      "  inflating: data/disgusted/__MACOSX/disgustedzip/._PAFF_121516_angerdisgustmorality-609x419.jpg  \n",
      "  inflating: data/disgusted/disgustedzip/portrait-disgusted-man-portrait-disgusted-man-serious-bald-guy-looking-you-120943417.jpg  \n",
      "  inflating: data/disgusted/__MACOSX/disgustedzip/._portrait-disgusted-man-portrait-disgusted-man-serious-bald-guy-looking-you-120943417.jpg  \n",
      "  inflating: data/disgusted/disgustedzip/portrait-of-a-disgusted-man-J278YY.jpg  \n",
      "  inflating: data/disgusted/__MACOSX/disgustedzip/._portrait-of-a-disgusted-man-J278YY.jpg  \n",
      "  inflating: data/disgusted/disgustedzip/portrait-young-disgusted-man-over-white-background-46916763.jpg  \n",
      "  inflating: data/disgusted/__MACOSX/disgustedzip/._portrait-young-disgusted-man-over-white-background-46916763.jpg  \n",
      "  inflating: data/disgusted/disgustedzip/qovzsf8wacuqf3x0ha2x.jpg  \n",
      "  inflating: data/disgusted/__MACOSX/disgustedzip/._qovzsf8wacuqf3x0ha2x.jpg  \n",
      "  inflating: data/disgusted/disgustedzip/stock-photo--disgusted-man-with-unhappy-face-the-concept-of-disgust-emotions-1118418317.jpg  \n",
      "  inflating: data/disgusted/__MACOSX/disgustedzip/._stock-photo--disgusted-man-with-unhappy-face-the-concept-of-disgust-emotions-1118418317.jpg  \n",
      "  inflating: data/disgusted/disgustedzip/storyblocks-disgusted-young-person_r2W9Mpo6M_SB_PM.jpg  \n",
      "  inflating: data/disgusted/__MACOSX/disgustedzip/._storyblocks-disgusted-young-person_r2W9Mpo6M_SB_PM.jpg  \n",
      "  inflating: data/disgusted/disgustedzip/the_science_behind_disgust.jpg  \n",
      "  inflating: data/disgusted/__MACOSX/disgustedzip/._the_science_behind_disgust.jpg  \n",
      "  inflating: data/disgusted/disgustedzip/thumb_COLOURBOX18987664.jpg  \n",
      "  inflating: data/disgusted/__MACOSX/disgustedzip/._thumb_COLOURBOX18987664.jpg  \n",
      "  inflating: data/disgusted/disgustedzip/thumb_user-1704890-2017-04-20-15-12-17.jpg  \n",
      "  inflating: data/disgusted/__MACOSX/disgustedzip/._thumb_user-1704890-2017-04-20-15-12-17.jpg  \n",
      "  inflating: data/disgusted/disgustedzip/ugly.gif  \n",
      "  inflating: data/disgusted/__MACOSX/disgustedzip/._ugly.gif  \n",
      "  inflating: data/disgusted/__MACOSX/._disgustedzip  \n"
     ]
    }
   ],
   "source": [
    "# !mkdir data/disgusted\n",
    "!unzip data/disgusted/disgustedzip.zip -d data/disgusted"
   ]
  },
  {
   "cell_type": "code",
   "execution_count": 13,
   "metadata": {
    "colab": {},
    "colab_type": "code",
    "id": "m6Nqd0zi91i4"
   },
   "outputs": [
    {
     "name": "stdout",
     "output_type": "stream",
     "text": [
      "Archive:  data/sad/sadzip.zip\n",
      " extracting: data/sad/sad-person-pensive-worried-40261408.jpg  \n",
      " extracting: data/sad/cartoon-overweight-sad-person-standing-scale-crying-vector-illustration-white-background-59967182.jpg  \n",
      " extracting: data/sad/aid322009-v4-728px-Console-a-Very-Sad-Person-Step-13.jpg  \n",
      " extracting: data/sad/aid322009-v4-728px-Console-a-Very-Sad-Person-Step-3-Version-2.jpg  \n",
      " extracting: data/sad/aid322009-v4-728px-Console-a-Very-Sad-Person-Step-8.jpg  \n",
      " extracting: data/sad/aid322009-v4-728px-Console-a-Very-Sad-Person-Step-2-Version-2.jpg  \n",
      " extracting: data/sad/aid322009-v4-728px-Console-a-Very-Sad-Person-Step-5-Version-2.jpg  \n",
      " extracting: data/sad/how-to-care-for-little-sad-person-john-saddington-fb__700-png.jpg  \n",
      " extracting: data/sad/aid322009-v4-728px-Console-a-Very-Sad-Person-Step-1-Version-2.jpg  \n",
      " extracting: data/sad/aid322009-v4-728px-Console-a-Very-Sad-Person-Step-6-Version-2.jpg  \n",
      " extracting: data/sad/aid322009-v4-728px-Console-a-Very-Sad-Person-Step-7-Version-2.jpg  \n",
      " extracting: data/sad/67974627-cartoon-sad-person-vector-illustration.jpg  \n",
      " extracting: data/sad/aid322009-v4-728px-Console-a-Very-Sad-Person-Step-11.jpg  \n",
      " extracting: data/sad/36268610-young-sad-man-sitting-with-gun-trying-to-make-suicide.jpg  \n",
      " extracting: data/sad/stubborndepression_header.jpg  \n",
      " extracting: data/sad/sad-person-looking-out-window-jill-battaglia.jpg  \n",
      " extracting: data/sad/xIMG_0126bw.jpg.pagespeed.ic.01d0d9vqmO.jpg  \n",
      " extracting: data/sad/aid322009-v4-728px-Console-a-Very-Sad-Person-Step-9.jpg  \n",
      " extracting: data/sad/aid322009-v4-728px-Console-a-Very-Sad-Person-Step-10.jpg  \n",
      " extracting: data/sad/depositphotos_207034460-stock-video-a-sad-person-sitting-in.jpg  \n",
      " extracting: data/sad/gettyimages-177462404.jpg  \n",
      " extracting: data/sad/the_sad_person_test-f.jpg  \n",
      " extracting: data/sad/pexels-photo-551590.jpegcsu003dsrgbu0026dlu003dalone-black-and-white-boy-551590.jpg  \n",
      " extracting: data/sad/quote-i-ve-always-been-a-sad-person-i-m-a-happy-person-too-but-it-s-a-thing-in-my-brain-or-fernando-torres-143-81-37.jpg  \n",
      " extracting: data/sad/pexels-photo-1091659.jpegcsu003dsrgbu0026dlu003dadult-attractive-beautiful-1091659.jpg  \n",
      " extracting: data/sad/Make-someone-sad-happy.jpg  \n",
      " extracting: data/sad/how-to-care-for-sad-person-sushi-roll-1.jpg  \n",
      " extracting: data/sad/500_F_88272055_6je3c7H7BqwmVzyZS7SXEzLdIgGqSuMP.jpg  \n",
      " extracting: data/sad/sad-person.jpg  \n",
      " extracting: data/sad/Person-Sadness-Background-Depressed-Sad-Young-Man-2635043.jpg  \n",
      " extracting: data/sad/man-looking-out.jpg  \n",
      " extracting: data/sad/37162991-very-sad-old-man.jpg  \n",
      " extracting: data/sad/maxresdefault.jpg  \n",
      " extracting: data/sad/Sad-Person-Talk-Male-Men-Cry-Man-Sad-Man-3423745.png  \n",
      " extracting: data/sad/Sad2BPerson2BIn2BEveryday2BLife.jpg  \n",
      " extracting: data/sad/sad2.jpg       \n",
      " extracting: data/sad/break-300x200.jpg  \n",
      " extracting: data/sad/62628747-african-american-depressive-sad-broken-heart-concept.jpg  \n",
      " extracting: data/sad/16192906-close-up-portrait-of-a-young-woman-with-sad-expression.jpg  \n",
      " extracting: data/sad/hqdefault.jpg  \n",
      " extracting: data/sad/vh6to.jpg      \n",
      " extracting: data/sad/nice-messages-for-a-sad-person.jpg  \n",
      " extracting: data/sad/sad-people-clipart-2935.png  \n",
      " extracting: data/sad/1.jpg          \n",
      " extracting: data/sad/o-WOMAN-SAD-WINDOW-facebook.jpg  \n",
      " extracting: data/sad/55a7c8135e095fcef7be6acedc96eaa4.jpg  \n",
      " extracting: data/sad/sad1.jpg       \n",
      " extracting: data/sad/58103156-attractive-young-woman-looking-thoughtful-and-contemplative-.jpg  \n",
      " extracting: data/sad/14367181-sad-young-man-hide-a-face-his-hand-closeup.jpg  \n",
      " extracting: data/sad/167594-172643.jpeg  \n",
      " extracting: data/sad/woman-women-female-emotional-emotions-face-sad-person-blank-european-J80R5B.jpg  \n",
      " extracting: data/sad/sad-person-keeping-silence-turned-away-from-friends-FANCM9.jpg  \n",
      " extracting: data/sad/8849797.jpg    \n",
      " extracting: data/sad/3d-depressed-sad-person-clipart__k27077541.jpg  \n",
      " extracting: data/sad/1Gk5-wtMs9TaaIjZna59DVA.jpeg  \n",
      " extracting: data/sad/depression-symptoms-man-person-crop.jpg  \n",
      " extracting: data/sad/sadperson.jpg  \n",
      " extracting: data/sad/closeup-of-sad-person.jpg  \n",
      " extracting: data/sad/26033494.jpg   \n",
      " extracting: data/sad/kisspng-sadness-sad-persons-scale-depression-worry-sad-man-5aa0ec3fcee210.9283031615204956798474.jpg  \n",
      " extracting: data/sad/sad-2514026_960_720.jpg  \n",
      " extracting: data/sad/sad-person-png-6.png  \n",
      " extracting: data/sad/6357529617325697741661674865_bigstock-young-woman-holding-happy-mask-38832853-300x204.jpg  \n",
      " extracting: data/sad/sad.jpg        \n",
      " extracting: data/sad/4.jpg          \n",
      "error:  cannot create data/sad/person-black-and-white-girl-woman-hair-white-photography-dark-female-portrait-model-darkness-black-monochrome-hairstyle-close-up-sad-face-eye-head-beauty-beautiful-crying-attractive-photo-shoot-monochrome-photography-portrait-photography-film-noir-1364769.jpg\n",
      "        File name too long\n",
      " extracting: data/sad/sad-face.jpg   \n",
      " extracting: data/sad/sad-black-woman-hair-post-500x322.jpg  \n",
      " extracting: data/sad/sad-11.jpg     \n",
      " extracting: data/sad/brunette-profile-Person-sad-sight-1050147.jpg  \n",
      " extracting: data/sad/sad-man-in-the-snow.jpg  \n",
      " extracting: data/sad/a-sad-person-in-the-dark-3648x3648_35955.jpg  \n",
      " extracting: data/sad/rTLxe9ayc.png  \n",
      " extracting: data/sad/a-sad-person-behind-the-wall-4928x2755_35975.jpg  \n",
      " extracting: data/sad/1231936.png    \n",
      " extracting: data/sad/8izrjazAT.jpg  \n",
      " extracting: data/sad/dc9KRL4qi.jpg  \n",
      " extracting: data/sad/pc5rnadni.jpg  \n",
      " extracting: data/sad/person-people-photography-boy-kid-male-portrait-young-child-facial-expression-smile-sad-infant-toddler-eye-head-laughter-crying-emotion-unhappy-iraq-portrait-photography-764193.jpg  \n",
      " extracting: data/sad/8cEbX9kMi.jpg  \n",
      " extracting: data/sad/21692663.jpg   \n",
      " extracting: data/sad/26033722.jpg   \n",
      " extracting: data/sad/upset.jpg      \n",
      " extracting: data/sad/clipart-lonely-1.jpg  \n",
      " extracting: data/sad/man-person-photography-headphone-portrait-young-sad-left-photograph-beauty-nice-emotion-dreaming-interaction-photo-shoot-listen-to-music-portrait-photography-1031950.jpg  \n",
      " extracting: data/sad/disappointed-man-looking-himself-in-the-mirror-sad-and-lonely-male-person-feeling-depressed-with-pessimistic-face-expression_r6r183do__F0001.png  \n",
      " extracting: data/sad/pcqrnarXi.jpg  \n",
      " extracting: data/sad/5cRrMdXEi.jpg  \n",
      " extracting: data/sad/pTqrnabBc.jpg  \n",
      " extracting: data/sad/rcjGjAqdi.jpg  \n",
      " extracting: data/sad/21692760.jpg   \n",
      " extracting: data/sad/8iAb9k4aT.jpg  \n"
     ]
    }
   ],
   "source": [
    "# !mkdir data/sad\n",
    "!unzip data/sad/sadzip.zip -d data/sad"
   ]
  },
  {
   "cell_type": "code",
   "execution_count": null,
   "metadata": {
    "colab": {},
    "colab_type": "code",
    "id": "W2Bf3kBj6ZQQ"
   },
   "outputs": [],
   "source": []
  },
  {
   "cell_type": "code",
   "execution_count": 10,
   "metadata": {
    "colab": {
     "base_uri": "https://localhost:8080/",
     "height": 164
    },
    "colab_type": "code",
    "id": "fT7AmPD0xVde",
    "outputId": "f40a283c-de19-49a7-c8e9-46c9464205ac"
   },
   "outputs": [],
   "source": [
    "path = Path(\"data/train\")"
   ]
  },
  {
   "cell_type": "code",
   "execution_count": 15,
   "metadata": {
    "colab": {},
    "colab_type": "code",
    "id": "zwcT3XAKELe4"
   },
   "outputs": [],
   "source": [
    "!mkdir data/train\n",
    "!mkdir data/valid"
   ]
  },
  {
   "cell_type": "code",
   "execution_count": 16,
   "metadata": {
    "colab": {},
    "colab_type": "code",
    "id": "N3AC38bWFkqo"
   },
   "outputs": [],
   "source": [
    "!mv data/angry data/train"
   ]
  },
  {
   "cell_type": "code",
   "execution_count": 17,
   "metadata": {
    "colab": {},
    "colab_type": "code",
    "id": "3gjbl6PEFrpd"
   },
   "outputs": [],
   "source": [
    "!mv data/happy data/train\n",
    "!mv data/sad data/train\n",
    "!mv data/disgusted data/train"
   ]
  },
  {
   "cell_type": "code",
   "execution_count": null,
   "metadata": {
    "colab": {
     "base_uri": "https://localhost:8080/",
     "height": 85
    },
    "colab_type": "code",
    "id": "VRnQXIE0JEM6",
    "outputId": "12227324-32c5-4abb-b06c-f4cbeefbccc5"
   },
   "outputs": [],
   "source": [
    "# !rmdir data/angry\n",
    "# !rmdir data/happy\n",
    "# !rmdir data/sad\n",
    "# !rmdir data/disgusted"
   ]
  },
  {
   "cell_type": "code",
   "execution_count": 11,
   "metadata": {
    "colab": {
     "base_uri": "https://localhost:8080/",
     "height": 219
    },
    "colab_type": "code",
    "id": "pdRNAfhHDVuN",
    "outputId": "184cfe53-62ae-4caf-8d0d-18a2a6535caf"
   },
   "outputs": [
    {
     "name": "stdout",
     "output_type": "stream",
     "text": [
      "happy\n"
     ]
    },
    {
     "data": {
      "text/html": [
       "\n",
       "    <div>\n",
       "        <style>\n",
       "            /* Turns off some styling */\n",
       "            progress {\n",
       "                /* gets rid of default border in Firefox and Opera. */\n",
       "                border: none;\n",
       "                /* Needs to be in here for Safari polyfill so background images work as expected. */\n",
       "                background-size: auto;\n",
       "            }\n",
       "            .progress-bar-interrupted, .progress-bar-interrupted::-webkit-progress-bar {\n",
       "                background: #F44336;\n",
       "            }\n",
       "        </style>\n",
       "      <progress value='93' class='' max='93', style='width:300px; height:20px; vertical-align: middle;'></progress>\n",
       "      100.00% [93/93 00:00<00:00]\n",
       "    </div>\n",
       "    "
      ],
      "text/plain": [
       "<IPython.core.display.HTML object>"
      ]
     },
     "metadata": {},
     "output_type": "display_data"
    },
    {
     "name": "stdout",
     "output_type": "stream",
     "text": [
      "sad\n"
     ]
    },
    {
     "data": {
      "text/html": [
       "\n",
       "    <div>\n",
       "        <style>\n",
       "            /* Turns off some styling */\n",
       "            progress {\n",
       "                /* gets rid of default border in Firefox and Opera. */\n",
       "                border: none;\n",
       "                /* Needs to be in here for Safari polyfill so background images work as expected. */\n",
       "                background-size: auto;\n",
       "            }\n",
       "            .progress-bar-interrupted, .progress-bar-interrupted::-webkit-progress-bar {\n",
       "                background: #F44336;\n",
       "            }\n",
       "        </style>\n",
       "      <progress value='88' class='' max='88', style='width:300px; height:20px; vertical-align: middle;'></progress>\n",
       "      100.00% [88/88 00:00<00:00]\n",
       "    </div>\n",
       "    "
      ],
      "text/plain": [
       "<IPython.core.display.HTML object>"
      ]
     },
     "metadata": {},
     "output_type": "display_data"
    },
    {
     "name": "stdout",
     "output_type": "stream",
     "text": [
      "disgusted\n"
     ]
    },
    {
     "data": {
      "text/html": [
       "\n",
       "    <div>\n",
       "        <style>\n",
       "            /* Turns off some styling */\n",
       "            progress {\n",
       "                /* gets rid of default border in Firefox and Opera. */\n",
       "                border: none;\n",
       "                /* Needs to be in here for Safari polyfill so background images work as expected. */\n",
       "                background-size: auto;\n",
       "            }\n",
       "            .progress-bar-interrupted, .progress-bar-interrupted::-webkit-progress-bar {\n",
       "                background: #F44336;\n",
       "            }\n",
       "        </style>\n",
       "      <progress value='0' class='' max='0', style='width:300px; height:20px; vertical-align: middle;'></progress>\n",
       "      100% [0/0]\n",
       "    </div>\n",
       "    "
      ],
      "text/plain": [
       "<IPython.core.display.HTML object>"
      ]
     },
     "metadata": {},
     "output_type": "display_data"
    },
    {
     "name": "stderr",
     "output_type": "stream",
     "text": [
      "/opt/conda/envs/fastai/lib/python3.6/site-packages/fastprogress/fastprogress.py:95: UserWarning: Your generator is empty.\n",
      "  warn(\"Your generator is empty.\")\n"
     ]
    },
    {
     "name": "stdout",
     "output_type": "stream",
     "text": [
      "angry\n"
     ]
    },
    {
     "data": {
      "text/html": [
       "\n",
       "    <div>\n",
       "        <style>\n",
       "            /* Turns off some styling */\n",
       "            progress {\n",
       "                /* gets rid of default border in Firefox and Opera. */\n",
       "                border: none;\n",
       "                /* Needs to be in here for Safari polyfill so background images work as expected. */\n",
       "                background-size: auto;\n",
       "            }\n",
       "            .progress-bar-interrupted, .progress-bar-interrupted::-webkit-progress-bar {\n",
       "                background: #F44336;\n",
       "            }\n",
       "        </style>\n",
       "      <progress value='0' class='' max='0', style='width:300px; height:20px; vertical-align: middle;'></progress>\n",
       "      100% [0/0]\n",
       "    </div>\n",
       "    "
      ],
      "text/plain": [
       "<IPython.core.display.HTML object>"
      ]
     },
     "metadata": {},
     "output_type": "display_data"
    }
   ],
   "source": [
    "classes = ['happy','sad','disgusted', 'angry']\n",
    "\n",
    "for c in classes:\n",
    "    print(c)\n",
    "    verify_images(path/c, delete=True, max_size=500)"
   ]
  },
  {
   "cell_type": "code",
   "execution_count": 12,
   "metadata": {
    "colab": {},
    "colab_type": "code",
    "id": "l1NgSxu6CRh3"
   },
   "outputs": [],
   "source": [
    "np.random.seed(2)\n",
    "data = ImageDataBunch.from_folder(path, train=\".\", valid_pct=0.2,\n",
    "        ds_tfms=get_transforms(), size=224, num_workers=4).normalize(imagenet_stats)"
   ]
  },
  {
   "cell_type": "code",
   "execution_count": 13,
   "metadata": {
    "colab": {
     "base_uri": "https://localhost:8080/",
     "height": 119
    },
    "colab_type": "code",
    "id": "knCQqdHpxVdi",
    "outputId": "5de92e05-b6d9-4e2e-e397-74791ff3c589"
   },
   "outputs": [
    {
     "data": {
      "text/plain": [
       "[PosixPath('data/train/happy'),\n",
       " PosixPath('data/train/cleaned.csv'),\n",
       " PosixPath('data/train/disgusted'),\n",
       " PosixPath('data/train/angry'),\n",
       " PosixPath('data/train/models'),\n",
       " PosixPath('data/train/sad')]"
      ]
     },
     "execution_count": 13,
     "metadata": {},
     "output_type": "execute_result"
    }
   ],
   "source": [
    "path.ls()"
   ]
  },
  {
   "cell_type": "code",
   "execution_count": 14,
   "metadata": {
    "colab": {
     "base_uri": "https://localhost:8080/",
     "height": 34
    },
    "colab_type": "code",
    "id": "Gwpnc2PnGiXk",
    "outputId": "b2f3243c-b0c0-45ee-ff8a-56e12f4bcbc3"
   },
   "outputs": [
    {
     "data": {
      "text/plain": [
       "['angryzip', 'disgustedzip', 'happy', 'sad']"
      ]
     },
     "execution_count": 14,
     "metadata": {},
     "output_type": "execute_result"
    }
   ],
   "source": [
    "data.classes"
   ]
  },
  {
   "cell_type": "code",
   "execution_count": 15,
   "metadata": {
    "colab": {
     "base_uri": "https://localhost:8080/",
     "height": 569
    },
    "colab_type": "code",
    "id": "cK1OHr9JGmHH",
    "outputId": "6fb2cea0-e2aa-4edb-bee8-1e707d03095d"
   },
   "outputs": [
    {
     "data": {
      "image/png": "[encoded data removed]",
      "text/plain": [
       "<Figure size 504x576 with 9 Axes>"
      ]
     },
     "metadata": {
      "needs_background": "light"
     },
     "output_type": "display_data"
    }
   ],
   "source": [
    "data.show_batch(rows=3, figsize=(7,8))"
   ]
  },
  {
   "cell_type": "code",
   "execution_count": 16,
   "metadata": {
    "colab": {
     "base_uri": "https://localhost:8080/",
     "height": 34
    },
    "colab_type": "code",
    "id": "n4U94BobDgx0",
    "outputId": "a8c7c56a-d188-425d-c3b5-0f0c8f32952e"
   },
   "outputs": [
    {
     "data": {
      "text/plain": [
       "(['angryzip', 'disgustedzip', 'happy', 'sad'], 4, 263, 65)"
      ]
     },
     "execution_count": 16,
     "metadata": {},
     "output_type": "execute_result"
    }
   ],
   "source": [
    "data.classes, data.c, len(data.train_ds), len(data.valid_ds)"
   ]
  },
  {
   "cell_type": "markdown",
   "metadata": {
    "colab_type": "text",
    "id": "dbplX7LBxVdo"
   },
   "source": [
    "The first thing we do when we approach a problem is to take a look at the data. We _always_ need to understand very well what the problem is and what the data looks like before we can figure out how to solve it. Taking a look at the data means understanding how the data directories are structured, what the labels are and what some sample images look like.\n",
    "\n",
    "The main difference between the handling of image classification datasets is the way labels are stored. In this particular dataset, labels are stored in the filenames themselves. We will need to extract them to be able to classify the images into the correct categories. Fortunately, the fastai library has a handy function made exactly for this, `ImageDataBunch.from_name_re` gets the labels from the filenames using a [regular expression](https://docs.python.org/3.6/library/re.html)."
   ]
  },
  {
   "cell_type": "code",
   "execution_count": 24,
   "metadata": {
    "colab": {},
    "colab_type": "code",
    "id": "ccAOlIloxVdq"
   },
   "outputs": [
    {
     "ename": "NameError",
     "evalue": "name 'path_img' is not defined",
     "output_type": "error",
     "traceback": [
      "\u001b[0;31m---------------------------------------------------------------------------\u001b[0m",
      "\u001b[0;31mNameError\u001b[0m                                 Traceback (most recent call last)",
      "\u001b[0;32m<ipython-input-24-18db94696d98>\u001b[0m in \u001b[0;36m<module>\u001b[0;34m\u001b[0m\n\u001b[0;32m----> 1\u001b[0;31m \u001b[0mfnames\u001b[0m \u001b[0;34m=\u001b[0m \u001b[0mget_image_files\u001b[0m\u001b[0;34m(\u001b[0m\u001b[0mpath_img\u001b[0m\u001b[0;34m)\u001b[0m\u001b[0;34m\u001b[0m\u001b[0;34m\u001b[0m\u001b[0m\n\u001b[0m\u001b[1;32m      2\u001b[0m \u001b[0mfnames\u001b[0m\u001b[0;34m[\u001b[0m\u001b[0;34m:\u001b[0m\u001b[0;36m5\u001b[0m\u001b[0;34m]\u001b[0m\u001b[0;34m\u001b[0m\u001b[0;34m\u001b[0m\u001b[0m\n",
      "\u001b[0;31mNameError\u001b[0m: name 'path_img' is not defined"
     ]
    }
   ],
   "source": [
    "# fnames = get_image_files(path_img)\n",
    "# fnames[:5]"
   ]
  },
  {
   "cell_type": "code",
   "execution_count": 17,
   "metadata": {
    "colab": {},
    "colab_type": "code",
    "id": "dMipnfNzxVd3",
    "outputId": "8a68df65-e947-4d71-ba7d-13ba7c1c1f8c"
   },
   "outputs": [
    {
     "name": "stdout",
     "output_type": "stream",
     "text": [
      "['angryzip', 'disgustedzip', 'happy', 'sad']\n"
     ]
    },
    {
     "data": {
      "text/plain": [
       "(4, 4)"
      ]
     },
     "execution_count": 17,
     "metadata": {},
     "output_type": "execute_result"
    }
   ],
   "source": [
    "print(data.classes)\n",
    "len(data.classes),data.c"
   ]
  },
  {
   "cell_type": "markdown",
   "metadata": {
    "colab_type": "text",
    "id": "bDgOGreyxVd7"
   },
   "source": [
    "## Training: resnet34"
   ]
  },
  {
   "cell_type": "markdown",
   "metadata": {
    "colab_type": "text",
    "id": "gqzmPXNRxVd9"
   },
   "source": [
    "Now we will start training our model. We will use a [convolutional neural network](http://cs231n.github.io/convolutional-networks/) backbone and a fully connected head with a single hidden layer as a classifier. Don't know what these things mean? Not to worry, we will dive deeper in the coming lessons. For the moment you need to know that we are building a model which will take images as input and will output the predicted probability for each of the categories (in this case, it will have 37 outputs).\n",
    "\n",
    "We will train for 4 epochs (4 cycles through all our data)."
   ]
  },
  {
   "cell_type": "code",
   "execution_count": 18,
   "metadata": {
    "colab": {},
    "colab_type": "code",
    "id": "h_9FURzJxVd-"
   },
   "outputs": [],
   "source": [
    "learn = create_cnn(data, models.resnet34, metrics=error_rate)"
   ]
  },
  {
   "cell_type": "code",
   "execution_count": 19,
   "metadata": {
    "colab": {
     "base_uri": "https://localhost:8080/",
     "height": 196
    },
    "colab_type": "code",
    "id": "eoHpzPjzEKkd",
    "outputId": "0d4ad7f4-3e12-4013-d8f7-e944b0afa712"
   },
   "outputs": [
    {
     "data": {
      "text/html": [
       "Total time: 00:24 <p><table style='width:300px; margin-bottom:10px'>\n",
       "  <tr>\n",
       "    <th>epoch</th>\n",
       "    <th>train_loss</th>\n",
       "    <th>valid_loss</th>\n",
       "    <th>error_rate</th>\n",
       "  </tr>\n",
       "  <tr>\n",
       "    <th>1</th>\n",
       "    <th>1.683617</th>\n",
       "    <th>1.342755</th>\n",
       "    <th>0.661538</th>\n",
       "  </tr>\n",
       "  <tr>\n",
       "    <th>2</th>\n",
       "    <th>1.388204</th>\n",
       "    <th>1.071149</th>\n",
       "    <th>0.430769</th>\n",
       "  </tr>\n",
       "  <tr>\n",
       "    <th>3</th>\n",
       "    <th>1.136698</th>\n",
       "    <th>1.050982</th>\n",
       "    <th>0.461538</th>\n",
       "  </tr>\n",
       "  <tr>\n",
       "    <th>4</th>\n",
       "    <th>0.983966</th>\n",
       "    <th>1.005239</th>\n",
       "    <th>0.430769</th>\n",
       "  </tr>\n",
       "</table>\n"
      ],
      "text/plain": [
       "<IPython.core.display.HTML object>"
      ]
     },
     "metadata": {},
     "output_type": "display_data"
    }
   ],
   "source": [
    "learn.fit_one_cycle(4)"
   ]
  },
  {
   "cell_type": "code",
   "execution_count": 20,
   "metadata": {
    "colab": {},
    "colab_type": "code",
    "id": "PrAGuMTYENu5"
   },
   "outputs": [],
   "source": [
    "learn.save('stage-1')"
   ]
  },
  {
   "cell_type": "code",
   "execution_count": 21,
   "metadata": {
    "colab": {},
    "colab_type": "code",
    "id": "sj8koQA9F40k"
   },
   "outputs": [],
   "source": [
    "learn.unfreeze()"
   ]
  },
  {
   "cell_type": "code",
   "execution_count": 22,
   "metadata": {
    "colab": {},
    "colab_type": "code",
    "id": "sII7gnyQF5UE"
   },
   "outputs": [
    {
     "name": "stdout",
     "output_type": "stream",
     "text": [
      "LR Finder is complete, type {learner_name}.recorder.plot() to see the graph.\n"
     ]
    }
   ],
   "source": [
    "learn.lr_find()"
   ]
  },
  {
   "cell_type": "code",
   "execution_count": 31,
   "metadata": {
    "colab": {},
    "colab_type": "code",
    "id": "7qReF6K5F79d"
   },
   "outputs": [
    {
     "data": {
      "image/png": "[encoded data removed]",
      "text/plain": [
       "<Figure size 432x288 with 1 Axes>"
      ]
     },
     "metadata": {
      "needs_background": "light"
     },
     "output_type": "display_data"
    }
   ],
   "source": [
    "learn.recorder.plot()"
   ]
  },
  {
   "cell_type": "code",
   "execution_count": 23,
   "metadata": {
    "colab": {},
    "colab_type": "code",
    "id": "M0pxMMexGDrt"
   },
   "outputs": [],
   "source": [
    "lr = 0.0025"
   ]
  },
  {
   "cell_type": "code",
   "execution_count": 24,
   "metadata": {},
   "outputs": [
    {
     "data": {
      "text/html": [
       "Total time: 00:32 <p><table style='width:300px; margin-bottom:10px'>\n",
       "  <tr>\n",
       "    <th>epoch</th>\n",
       "    <th>train_loss</th>\n",
       "    <th>valid_loss</th>\n",
       "    <th>error_rate</th>\n",
       "  </tr>\n",
       "  <tr>\n",
       "    <th>1</th>\n",
       "    <th>0.516991</th>\n",
       "    <th>0.952270</th>\n",
       "    <th>0.369231</th>\n",
       "  </tr>\n",
       "  <tr>\n",
       "    <th>2</th>\n",
       "    <th>0.446933</th>\n",
       "    <th>0.989698</th>\n",
       "    <th>0.323077</th>\n",
       "  </tr>\n",
       "  <tr>\n",
       "    <th>3</th>\n",
       "    <th>0.366458</th>\n",
       "    <th>1.428914</th>\n",
       "    <th>0.430769</th>\n",
       "  </tr>\n",
       "  <tr>\n",
       "    <th>4</th>\n",
       "    <th>0.308851</th>\n",
       "    <th>1.466236</th>\n",
       "    <th>0.369231</th>\n",
       "  </tr>\n",
       "  <tr>\n",
       "    <th>5</th>\n",
       "    <th>0.267122</th>\n",
       "    <th>1.350827</th>\n",
       "    <th>0.323077</th>\n",
       "  </tr>\n",
       "</table>\n"
      ],
      "text/plain": [
       "<IPython.core.display.HTML object>"
      ]
     },
     "metadata": {},
     "output_type": "display_data"
    }
   ],
   "source": [
    "learn.fit_one_cycle(5, slice(lr))"
   ]
  },
  {
   "cell_type": "code",
   "execution_count": 25,
   "metadata": {
    "colab": {},
    "colab_type": "code",
    "id": "EF9G3gpCGFKr"
   },
   "outputs": [],
   "source": [
    "learn.save('stage-2')"
   ]
  },
  {
   "cell_type": "code",
   "execution_count": null,
   "metadata": {
    "colab": {},
    "colab_type": "code",
    "id": "vWxrLON3xVeD"
   },
   "outputs": [],
   "source": [
    "#learn.model"
   ]
  },
  {
   "cell_type": "code",
   "execution_count": 26,
   "metadata": {},
   "outputs": [
    {
     "data": {
      "text/plain": [
       "Learner(data=ImageDataBunch;\n",
       "\n",
       "Train: LabelList\n",
       "y: CategoryList (263 items)\n",
       "[Category happy, Category happy, Category happy, Category happy, Category happy]...\n",
       "Path: data/train\n",
       "x: ImageItemList (263 items)\n",
       "[Image (3, 281, 500), Image (3, 339, 500), Image (3, 332, 500), Image (3, 300, 450), Image (3, 334, 300)]...\n",
       "Path: data/train;\n",
       "\n",
       "Valid: LabelList\n",
       "y: CategoryList (65 items)\n",
       "[Category sad, Category angryzip, Category happy, Category sad, Category disgustedzip]...\n",
       "Path: data/train\n",
       "x: ImageItemList (65 items)\n",
       "[Image (3, 466, 500), Image (3, 1667, 2500), Image (3, 278, 500), Image (3, 500, 333), Image (3, 1080, 1920)]...\n",
       "Path: data/train;\n",
       "\n",
       "Test: None, model=Sequential(\n",
       "  (0): Sequential(\n",
       "    (0): Conv2d(3, 64, kernel_size=(7, 7), stride=(2, 2), padding=(3, 3), bias=False)\n",
       "    (1): BatchNorm2d(64, eps=1e-05, momentum=0.1, affine=True, track_running_stats=True)\n",
       "    (2): ReLU(inplace)\n",
       "    (3): MaxPool2d(kernel_size=3, stride=2, padding=1, dilation=1, ceil_mode=False)\n",
       "    (4): Sequential(\n",
       "      (0): BasicBlock(\n",
       "        (conv1): Conv2d(64, 64, kernel_size=(3, 3), stride=(1, 1), padding=(1, 1), bias=False)\n",
       "        (bn1): BatchNorm2d(64, eps=1e-05, momentum=0.1, affine=True, track_running_stats=True)\n",
       "        (relu): ReLU(inplace)\n",
       "        (conv2): Conv2d(64, 64, kernel_size=(3, 3), stride=(1, 1), padding=(1, 1), bias=False)\n",
       "        (bn2): BatchNorm2d(64, eps=1e-05, momentum=0.1, affine=True, track_running_stats=True)\n",
       "      )\n",
       "      (1): BasicBlock(\n",
       "        (conv1): Conv2d(64, 64, kernel_size=(3, 3), stride=(1, 1), padding=(1, 1), bias=False)\n",
       "        (bn1): BatchNorm2d(64, eps=1e-05, momentum=0.1, affine=True, track_running_stats=True)\n",
       "        (relu): ReLU(inplace)\n",
       "        (conv2): Conv2d(64, 64, kernel_size=(3, 3), stride=(1, 1), padding=(1, 1), bias=False)\n",
       "        (bn2): BatchNorm2d(64, eps=1e-05, momentum=0.1, affine=True, track_running_stats=True)\n",
       "      )\n",
       "      (2): BasicBlock(\n",
       "        (conv1): Conv2d(64, 64, kernel_size=(3, 3), stride=(1, 1), padding=(1, 1), bias=False)\n",
       "        (bn1): BatchNorm2d(64, eps=1e-05, momentum=0.1, affine=True, track_running_stats=True)\n",
       "        (relu): ReLU(inplace)\n",
       "        (conv2): Conv2d(64, 64, kernel_size=(3, 3), stride=(1, 1), padding=(1, 1), bias=False)\n",
       "        (bn2): BatchNorm2d(64, eps=1e-05, momentum=0.1, affine=True, track_running_stats=True)\n",
       "      )\n",
       "    )\n",
       "    (5): Sequential(\n",
       "      (0): BasicBlock(\n",
       "        (conv1): Conv2d(64, 128, kernel_size=(3, 3), stride=(2, 2), padding=(1, 1), bias=False)\n",
       "        (bn1): BatchNorm2d(128, eps=1e-05, momentum=0.1, affine=True, track_running_stats=True)\n",
       "        (relu): ReLU(inplace)\n",
       "        (conv2): Conv2d(128, 128, kernel_size=(3, 3), stride=(1, 1), padding=(1, 1), bias=False)\n",
       "        (bn2): BatchNorm2d(128, eps=1e-05, momentum=0.1, affine=True, track_running_stats=True)\n",
       "        (downsample): Sequential(\n",
       "          (0): Conv2d(64, 128, kernel_size=(1, 1), stride=(2, 2), bias=False)\n",
       "          (1): BatchNorm2d(128, eps=1e-05, momentum=0.1, affine=True, track_running_stats=True)\n",
       "        )\n",
       "      )\n",
       "      (1): BasicBlock(\n",
       "        (conv1): Conv2d(128, 128, kernel_size=(3, 3), stride=(1, 1), padding=(1, 1), bias=False)\n",
       "        (bn1): BatchNorm2d(128, eps=1e-05, momentum=0.1, affine=True, track_running_stats=True)\n",
       "        (relu): ReLU(inplace)\n",
       "        (conv2): Conv2d(128, 128, kernel_size=(3, 3), stride=(1, 1), padding=(1, 1), bias=False)\n",
       "        (bn2): BatchNorm2d(128, eps=1e-05, momentum=0.1, affine=True, track_running_stats=True)\n",
       "      )\n",
       "      (2): BasicBlock(\n",
       "        (conv1): Conv2d(128, 128, kernel_size=(3, 3), stride=(1, 1), padding=(1, 1), bias=False)\n",
       "        (bn1): BatchNorm2d(128, eps=1e-05, momentum=0.1, affine=True, track_running_stats=True)\n",
       "        (relu): ReLU(inplace)\n",
       "        (conv2): Conv2d(128, 128, kernel_size=(3, 3), stride=(1, 1), padding=(1, 1), bias=False)\n",
       "        (bn2): BatchNorm2d(128, eps=1e-05, momentum=0.1, affine=True, track_running_stats=True)\n",
       "      )\n",
       "      (3): BasicBlock(\n",
       "        (conv1): Conv2d(128, 128, kernel_size=(3, 3), stride=(1, 1), padding=(1, 1), bias=False)\n",
       "        (bn1): BatchNorm2d(128, eps=1e-05, momentum=0.1, affine=True, track_running_stats=True)\n",
       "        (relu): ReLU(inplace)\n",
       "        (conv2): Conv2d(128, 128, kernel_size=(3, 3), stride=(1, 1), padding=(1, 1), bias=False)\n",
       "        (bn2): BatchNorm2d(128, eps=1e-05, momentum=0.1, affine=True, track_running_stats=True)\n",
       "      )\n",
       "    )\n",
       "    (6): Sequential(\n",
       "      (0): BasicBlock(\n",
       "        (conv1): Conv2d(128, 256, kernel_size=(3, 3), stride=(2, 2), padding=(1, 1), bias=False)\n",
       "        (bn1): BatchNorm2d(256, eps=1e-05, momentum=0.1, affine=True, track_running_stats=True)\n",
       "        (relu): ReLU(inplace)\n",
       "        (conv2): Conv2d(256, 256, kernel_size=(3, 3), stride=(1, 1), padding=(1, 1), bias=False)\n",
       "        (bn2): BatchNorm2d(256, eps=1e-05, momentum=0.1, affine=True, track_running_stats=True)\n",
       "        (downsample): Sequential(\n",
       "          (0): Conv2d(128, 256, kernel_size=(1, 1), stride=(2, 2), bias=False)\n",
       "          (1): BatchNorm2d(256, eps=1e-05, momentum=0.1, affine=True, track_running_stats=True)\n",
       "        )\n",
       "      )\n",
       "      (1): BasicBlock(\n",
       "        (conv1): Conv2d(256, 256, kernel_size=(3, 3), stride=(1, 1), padding=(1, 1), bias=False)\n",
       "        (bn1): BatchNorm2d(256, eps=1e-05, momentum=0.1, affine=True, track_running_stats=True)\n",
       "        (relu): ReLU(inplace)\n",
       "        (conv2): Conv2d(256, 256, kernel_size=(3, 3), stride=(1, 1), padding=(1, 1), bias=False)\n",
       "        (bn2): BatchNorm2d(256, eps=1e-05, momentum=0.1, affine=True, track_running_stats=True)\n",
       "      )\n",
       "      (2): BasicBlock(\n",
       "        (conv1): Conv2d(256, 256, kernel_size=(3, 3), stride=(1, 1), padding=(1, 1), bias=False)\n",
       "        (bn1): BatchNorm2d(256, eps=1e-05, momentum=0.1, affine=True, track_running_stats=True)\n",
       "        (relu): ReLU(inplace)\n",
       "        (conv2): Conv2d(256, 256, kernel_size=(3, 3), stride=(1, 1), padding=(1, 1), bias=False)\n",
       "        (bn2): BatchNorm2d(256, eps=1e-05, momentum=0.1, affine=True, track_running_stats=True)\n",
       "      )\n",
       "      (3): BasicBlock(\n",
       "        (conv1): Conv2d(256, 256, kernel_size=(3, 3), stride=(1, 1), padding=(1, 1), bias=False)\n",
       "        (bn1): BatchNorm2d(256, eps=1e-05, momentum=0.1, affine=True, track_running_stats=True)\n",
       "        (relu): ReLU(inplace)\n",
       "        (conv2): Conv2d(256, 256, kernel_size=(3, 3), stride=(1, 1), padding=(1, 1), bias=False)\n",
       "        (bn2): BatchNorm2d(256, eps=1e-05, momentum=0.1, affine=True, track_running_stats=True)\n",
       "      )\n",
       "      (4): BasicBlock(\n",
       "        (conv1): Conv2d(256, 256, kernel_size=(3, 3), stride=(1, 1), padding=(1, 1), bias=False)\n",
       "        (bn1): BatchNorm2d(256, eps=1e-05, momentum=0.1, affine=True, track_running_stats=True)\n",
       "        (relu): ReLU(inplace)\n",
       "        (conv2): Conv2d(256, 256, kernel_size=(3, 3), stride=(1, 1), padding=(1, 1), bias=False)\n",
       "        (bn2): BatchNorm2d(256, eps=1e-05, momentum=0.1, affine=True, track_running_stats=True)\n",
       "      )\n",
       "      (5): BasicBlock(\n",
       "        (conv1): Conv2d(256, 256, kernel_size=(3, 3), stride=(1, 1), padding=(1, 1), bias=False)\n",
       "        (bn1): BatchNorm2d(256, eps=1e-05, momentum=0.1, affine=True, track_running_stats=True)\n",
       "        (relu): ReLU(inplace)\n",
       "        (conv2): Conv2d(256, 256, kernel_size=(3, 3), stride=(1, 1), padding=(1, 1), bias=False)\n",
       "        (bn2): BatchNorm2d(256, eps=1e-05, momentum=0.1, affine=True, track_running_stats=True)\n",
       "      )\n",
       "    )\n",
       "    (7): Sequential(\n",
       "      (0): BasicBlock(\n",
       "        (conv1): Conv2d(256, 512, kernel_size=(3, 3), stride=(2, 2), padding=(1, 1), bias=False)\n",
       "        (bn1): BatchNorm2d(512, eps=1e-05, momentum=0.1, affine=True, track_running_stats=True)\n",
       "        (relu): ReLU(inplace)\n",
       "        (conv2): Conv2d(512, 512, kernel_size=(3, 3), stride=(1, 1), padding=(1, 1), bias=False)\n",
       "        (bn2): BatchNorm2d(512, eps=1e-05, momentum=0.1, affine=True, track_running_stats=True)\n",
       "        (downsample): Sequential(\n",
       "          (0): Conv2d(256, 512, kernel_size=(1, 1), stride=(2, 2), bias=False)\n",
       "          (1): BatchNorm2d(512, eps=1e-05, momentum=0.1, affine=True, track_running_stats=True)\n",
       "        )\n",
       "      )\n",
       "      (1): BasicBlock(\n",
       "        (conv1): Conv2d(512, 512, kernel_size=(3, 3), stride=(1, 1), padding=(1, 1), bias=False)\n",
       "        (bn1): BatchNorm2d(512, eps=1e-05, momentum=0.1, affine=True, track_running_stats=True)\n",
       "        (relu): ReLU(inplace)\n",
       "        (conv2): Conv2d(512, 512, kernel_size=(3, 3), stride=(1, 1), padding=(1, 1), bias=False)\n",
       "        (bn2): BatchNorm2d(512, eps=1e-05, momentum=0.1, affine=True, track_running_stats=True)\n",
       "      )\n",
       "      (2): BasicBlock(\n",
       "        (conv1): Conv2d(512, 512, kernel_size=(3, 3), stride=(1, 1), padding=(1, 1), bias=False)\n",
       "        (bn1): BatchNorm2d(512, eps=1e-05, momentum=0.1, affine=True, track_running_stats=True)\n",
       "        (relu): ReLU(inplace)\n",
       "        (conv2): Conv2d(512, 512, kernel_size=(3, 3), stride=(1, 1), padding=(1, 1), bias=False)\n",
       "        (bn2): BatchNorm2d(512, eps=1e-05, momentum=0.1, affine=True, track_running_stats=True)\n",
       "      )\n",
       "    )\n",
       "  )\n",
       "  (1): Sequential(\n",
       "    (0): AdaptiveConcatPool2d(\n",
       "      (ap): AdaptiveAvgPool2d(output_size=1)\n",
       "      (mp): AdaptiveMaxPool2d(output_size=1)\n",
       "    )\n",
       "    (1): Flatten()\n",
       "    (2): BatchNorm1d(1024, eps=1e-05, momentum=0.1, affine=True, track_running_stats=True)\n",
       "    (3): Dropout(p=0.25)\n",
       "    (4): Linear(in_features=1024, out_features=512, bias=True)\n",
       "    (5): ReLU(inplace)\n",
       "    (6): BatchNorm1d(512, eps=1e-05, momentum=0.1, affine=True, track_running_stats=True)\n",
       "    (7): Dropout(p=0.5)\n",
       "    (8): Linear(in_features=512, out_features=4, bias=True)\n",
       "  )\n",
       "), opt_func=functools.partial(<class 'torch.optim.adam.Adam'>, betas=(0.9, 0.99)), loss_func=FlattenedLoss of CrossEntropyLoss(), metrics=[<function error_rate at 0x7f21e475d840>], true_wd=True, bn_wd=True, wd=0.01, train_bn=True, path=PosixPath('data/train'), model_dir='models', callback_fns=[<class 'fastai.basic_train.Recorder'>], callbacks=[], layer_groups=[Sequential(\n",
       "  (0): Conv2d(3, 64, kernel_size=(7, 7), stride=(2, 2), padding=(3, 3), bias=False)\n",
       "  (1): BatchNorm2d(64, eps=1e-05, momentum=0.1, affine=True, track_running_stats=True)\n",
       "  (2): ReLU(inplace)\n",
       "  (3): MaxPool2d(kernel_size=3, stride=2, padding=1, dilation=1, ceil_mode=False)\n",
       "  (4): Conv2d(64, 64, kernel_size=(3, 3), stride=(1, 1), padding=(1, 1), bias=False)\n",
       "  (5): BatchNorm2d(64, eps=1e-05, momentum=0.1, affine=True, track_running_stats=True)\n",
       "  (6): ReLU(inplace)\n",
       "  (7): Conv2d(64, 64, kernel_size=(3, 3), stride=(1, 1), padding=(1, 1), bias=False)\n",
       "  (8): BatchNorm2d(64, eps=1e-05, momentum=0.1, affine=True, track_running_stats=True)\n",
       "  (9): Conv2d(64, 64, kernel_size=(3, 3), stride=(1, 1), padding=(1, 1), bias=False)\n",
       "  (10): BatchNorm2d(64, eps=1e-05, momentum=0.1, affine=True, track_running_stats=True)\n",
       "  (11): ReLU(inplace)\n",
       "  (12): Conv2d(64, 64, kernel_size=(3, 3), stride=(1, 1), padding=(1, 1), bias=False)\n",
       "  (13): BatchNorm2d(64, eps=1e-05, momentum=0.1, affine=True, track_running_stats=True)\n",
       "  (14): Conv2d(64, 64, kernel_size=(3, 3), stride=(1, 1), padding=(1, 1), bias=False)\n",
       "  (15): BatchNorm2d(64, eps=1e-05, momentum=0.1, affine=True, track_running_stats=True)\n",
       "  (16): ReLU(inplace)\n",
       "  (17): Conv2d(64, 64, kernel_size=(3, 3), stride=(1, 1), padding=(1, 1), bias=False)\n",
       "  (18): BatchNorm2d(64, eps=1e-05, momentum=0.1, affine=True, track_running_stats=True)\n",
       "  (19): Conv2d(64, 128, kernel_size=(3, 3), stride=(2, 2), padding=(1, 1), bias=False)\n",
       "  (20): BatchNorm2d(128, eps=1e-05, momentum=0.1, affine=True, track_running_stats=True)\n",
       "  (21): ReLU(inplace)\n",
       "  (22): Conv2d(128, 128, kernel_size=(3, 3), stride=(1, 1), padding=(1, 1), bias=False)\n",
       "  (23): BatchNorm2d(128, eps=1e-05, momentum=0.1, affine=True, track_running_stats=True)\n",
       "  (24): Conv2d(64, 128, kernel_size=(1, 1), stride=(2, 2), bias=False)\n",
       "  (25): BatchNorm2d(128, eps=1e-05, momentum=0.1, affine=True, track_running_stats=True)\n",
       "  (26): Conv2d(128, 128, kernel_size=(3, 3), stride=(1, 1), padding=(1, 1), bias=False)\n",
       "  (27): BatchNorm2d(128, eps=1e-05, momentum=0.1, affine=True, track_running_stats=True)\n",
       "  (28): ReLU(inplace)\n",
       "  (29): Conv2d(128, 128, kernel_size=(3, 3), stride=(1, 1), padding=(1, 1), bias=False)\n",
       "  (30): BatchNorm2d(128, eps=1e-05, momentum=0.1, affine=True, track_running_stats=True)\n",
       "  (31): Conv2d(128, 128, kernel_size=(3, 3), stride=(1, 1), padding=(1, 1), bias=False)\n",
       "  (32): BatchNorm2d(128, eps=1e-05, momentum=0.1, affine=True, track_running_stats=True)\n",
       "  (33): ReLU(inplace)\n",
       "  (34): Conv2d(128, 128, kernel_size=(3, 3), stride=(1, 1), padding=(1, 1), bias=False)\n",
       "  (35): BatchNorm2d(128, eps=1e-05, momentum=0.1, affine=True, track_running_stats=True)\n",
       "  (36): Conv2d(128, 128, kernel_size=(3, 3), stride=(1, 1), padding=(1, 1), bias=False)\n",
       "  (37): BatchNorm2d(128, eps=1e-05, momentum=0.1, affine=True, track_running_stats=True)\n",
       "  (38): ReLU(inplace)\n",
       "  (39): Conv2d(128, 128, kernel_size=(3, 3), stride=(1, 1), padding=(1, 1), bias=False)\n",
       "  (40): BatchNorm2d(128, eps=1e-05, momentum=0.1, affine=True, track_running_stats=True)\n",
       "), Sequential(\n",
       "  (0): Conv2d(128, 256, kernel_size=(3, 3), stride=(2, 2), padding=(1, 1), bias=False)\n",
       "  (1): BatchNorm2d(256, eps=1e-05, momentum=0.1, affine=True, track_running_stats=True)\n",
       "  (2): ReLU(inplace)\n",
       "  (3): Conv2d(256, 256, kernel_size=(3, 3), stride=(1, 1), padding=(1, 1), bias=False)\n",
       "  (4): BatchNorm2d(256, eps=1e-05, momentum=0.1, affine=True, track_running_stats=True)\n",
       "  (5): Conv2d(128, 256, kernel_size=(1, 1), stride=(2, 2), bias=False)\n",
       "  (6): BatchNorm2d(256, eps=1e-05, momentum=0.1, affine=True, track_running_stats=True)\n",
       "  (7): Conv2d(256, 256, kernel_size=(3, 3), stride=(1, 1), padding=(1, 1), bias=False)\n",
       "  (8): BatchNorm2d(256, eps=1e-05, momentum=0.1, affine=True, track_running_stats=True)\n",
       "  (9): ReLU(inplace)\n",
       "  (10): Conv2d(256, 256, kernel_size=(3, 3), stride=(1, 1), padding=(1, 1), bias=False)\n",
       "  (11): BatchNorm2d(256, eps=1e-05, momentum=0.1, affine=True, track_running_stats=True)\n",
       "  (12): Conv2d(256, 256, kernel_size=(3, 3), stride=(1, 1), padding=(1, 1), bias=False)\n",
       "  (13): BatchNorm2d(256, eps=1e-05, momentum=0.1, affine=True, track_running_stats=True)\n",
       "  (14): ReLU(inplace)\n",
       "  (15): Conv2d(256, 256, kernel_size=(3, 3), stride=(1, 1), padding=(1, 1), bias=False)\n",
       "  (16): BatchNorm2d(256, eps=1e-05, momentum=0.1, affine=True, track_running_stats=True)\n",
       "  (17): Conv2d(256, 256, kernel_size=(3, 3), stride=(1, 1), padding=(1, 1), bias=False)\n",
       "  (18): BatchNorm2d(256, eps=1e-05, momentum=0.1, affine=True, track_running_stats=True)\n",
       "  (19): ReLU(inplace)\n",
       "  (20): Conv2d(256, 256, kernel_size=(3, 3), stride=(1, 1), padding=(1, 1), bias=False)\n",
       "  (21): BatchNorm2d(256, eps=1e-05, momentum=0.1, affine=True, track_running_stats=True)\n",
       "  (22): Conv2d(256, 256, kernel_size=(3, 3), stride=(1, 1), padding=(1, 1), bias=False)\n",
       "  (23): BatchNorm2d(256, eps=1e-05, momentum=0.1, affine=True, track_running_stats=True)\n",
       "  (24): ReLU(inplace)\n",
       "  (25): Conv2d(256, 256, kernel_size=(3, 3), stride=(1, 1), padding=(1, 1), bias=False)\n",
       "  (26): BatchNorm2d(256, eps=1e-05, momentum=0.1, affine=True, track_running_stats=True)\n",
       "  (27): Conv2d(256, 256, kernel_size=(3, 3), stride=(1, 1), padding=(1, 1), bias=False)\n",
       "  (28): BatchNorm2d(256, eps=1e-05, momentum=0.1, affine=True, track_running_stats=True)\n",
       "  (29): ReLU(inplace)\n",
       "  (30): Conv2d(256, 256, kernel_size=(3, 3), stride=(1, 1), padding=(1, 1), bias=False)\n",
       "  (31): BatchNorm2d(256, eps=1e-05, momentum=0.1, affine=True, track_running_stats=True)\n",
       "  (32): Conv2d(256, 512, kernel_size=(3, 3), stride=(2, 2), padding=(1, 1), bias=False)\n",
       "  (33): BatchNorm2d(512, eps=1e-05, momentum=0.1, affine=True, track_running_stats=True)\n",
       "  (34): ReLU(inplace)\n",
       "  (35): Conv2d(512, 512, kernel_size=(3, 3), stride=(1, 1), padding=(1, 1), bias=False)\n",
       "  (36): BatchNorm2d(512, eps=1e-05, momentum=0.1, affine=True, track_running_stats=True)\n",
       "  (37): Conv2d(256, 512, kernel_size=(1, 1), stride=(2, 2), bias=False)\n",
       "  (38): BatchNorm2d(512, eps=1e-05, momentum=0.1, affine=True, track_running_stats=True)\n",
       "  (39): Conv2d(512, 512, kernel_size=(3, 3), stride=(1, 1), padding=(1, 1), bias=False)\n",
       "  (40): BatchNorm2d(512, eps=1e-05, momentum=0.1, affine=True, track_running_stats=True)\n",
       "  (41): ReLU(inplace)\n",
       "  (42): Conv2d(512, 512, kernel_size=(3, 3), stride=(1, 1), padding=(1, 1), bias=False)\n",
       "  (43): BatchNorm2d(512, eps=1e-05, momentum=0.1, affine=True, track_running_stats=True)\n",
       "  (44): Conv2d(512, 512, kernel_size=(3, 3), stride=(1, 1), padding=(1, 1), bias=False)\n",
       "  (45): BatchNorm2d(512, eps=1e-05, momentum=0.1, affine=True, track_running_stats=True)\n",
       "  (46): ReLU(inplace)\n",
       "  (47): Conv2d(512, 512, kernel_size=(3, 3), stride=(1, 1), padding=(1, 1), bias=False)\n",
       "  (48): BatchNorm2d(512, eps=1e-05, momentum=0.1, affine=True, track_running_stats=True)\n",
       "), Sequential(\n",
       "  (0): AdaptiveAvgPool2d(output_size=1)\n",
       "  (1): AdaptiveMaxPool2d(output_size=1)\n",
       "  (2): Flatten()\n",
       "  (3): BatchNorm1d(1024, eps=1e-05, momentum=0.1, affine=True, track_running_stats=True)\n",
       "  (4): Dropout(p=0.25)\n",
       "  (5): Linear(in_features=1024, out_features=512, bias=True)\n",
       "  (6): ReLU(inplace)\n",
       "  (7): BatchNorm1d(512, eps=1e-05, momentum=0.1, affine=True, track_running_stats=True)\n",
       "  (8): Dropout(p=0.5)\n",
       "  (9): Linear(in_features=512, out_features=4, bias=True)\n",
       ")])"
      ]
     },
     "execution_count": 26,
     "metadata": {},
     "output_type": "execute_result"
    }
   ],
   "source": [
    "learn.load('stage-2')"
   ]
  },
  {
   "cell_type": "code",
   "execution_count": 27,
   "metadata": {},
   "outputs": [],
   "source": [
    "interp = ClassificationInterpretation.from_learner(learn)"
   ]
  },
  {
   "cell_type": "code",
   "execution_count": 28,
   "metadata": {},
   "outputs": [
    {
     "data": {
      "image/png": "[encoded data removed]",
      "text/plain": [
       "<Figure size 432x288 with 1 Axes>"
      ]
     },
     "metadata": {
      "needs_background": "light"
     },
     "output_type": "display_data"
    }
   ],
   "source": [
    "interp.plot_confusion_matrix()"
   ]
  },
  {
   "cell_type": "code",
   "execution_count": 29,
   "metadata": {},
   "outputs": [],
   "source": [
    "learn.export()"
   ]
  },
  {
   "cell_type": "markdown",
   "metadata": {
    "colab_type": "text",
    "id": "_PtrWCsrIrZI"
   },
   "source": [
    "# Cleaning the Data\n"
   ]
  },
  {
   "cell_type": "code",
   "execution_count": 42,
   "metadata": {
    "colab": {},
    "colab_type": "code",
    "id": "c_EkkmMaIbfh"
   },
   "outputs": [],
   "source": [
    "from fastai.widgets import *\n"
   ]
  },
  {
   "cell_type": "code",
   "execution_count": 43,
   "metadata": {
    "colab": {},
    "colab_type": "code",
    "id": "8vK9RAFdIfaP"
   },
   "outputs": [],
   "source": [
    "ds, idxs = DatasetFormatter().from_toplosses(learn, ds_type=DatasetType.Train)"
   ]
  },
  {
   "cell_type": "code",
   "execution_count": 44,
   "metadata": {
    "colab": {},
    "colab_type": "code",
    "id": "dJo8wLaRO--k"
   },
   "outputs": [
    {
     "data": {
      "text/plain": [
       "'No images to show :)'"
      ]
     },
     "metadata": {},
     "output_type": "display_data"
    }
   ],
   "source": [
    "ImageCleaner(ds, idxs, path)"
   ]
  },
  {
   "cell_type": "code",
   "execution_count": 45,
   "metadata": {
    "colab": {},
    "colab_type": "code",
    "id": "V2dpRfQfIgMo"
   },
   "outputs": [
    {
     "name": "stdout",
     "output_type": "stream",
     "text": [
      "Getting activations...\n"
     ]
    },
    {
     "data": {
      "text/html": [
       "\n",
       "    <div>\n",
       "        <style>\n",
       "            /* Turns off some styling */\n",
       "            progress {\n",
       "                /* gets rid of default border in Firefox and Opera. */\n",
       "                border: none;\n",
       "                /* Needs to be in here for Safari polyfill so background images work as expected. */\n",
       "                background-size: auto;\n",
       "            }\n",
       "            .progress-bar-interrupted, .progress-bar-interrupted::-webkit-progress-bar {\n",
       "                background: #F44336;\n",
       "            }\n",
       "        </style>\n",
       "      <progress value='5' class='' max='5', style='width:300px; height:20px; vertical-align: middle;'></progress>\n",
       "      100.00% [5/5 00:04<00:00]\n",
       "    </div>\n",
       "    "
      ],
      "text/plain": [
       "<IPython.core.display.HTML object>"
      ]
     },
     "metadata": {},
     "output_type": "display_data"
    },
    {
     "name": "stdout",
     "output_type": "stream",
     "text": [
      "Computing similarities...\n"
     ]
    }
   ],
   "source": [
    "ds, idxs = DatasetFormatter().from_similars(learn, ds_type=DatasetType.Valid)\n"
   ]
  },
  {
   "cell_type": "code",
   "execution_count": 46,
   "metadata": {
    "colab": {},
    "colab_type": "code",
    "id": "pr635ey-IqVk"
   },
   "outputs": [
    {
     "data": {
      "text/plain": [
       "'No images to show :). 3 pairs were skipped since at least one of the images was deleted by the user.'"
      ]
     },
     "metadata": {},
     "output_type": "display_data"
    }
   ],
   "source": [
    "ImageCleaner(ds, idxs, path, duplicates=True)\n"
   ]
  },
  {
   "cell_type": "markdown",
   "metadata": {
    "colab_type": "text",
    "id": "KayDGo7FJC7r"
   },
   "source": [
    "Once you've cleaned the data, remake the DataBunch and retrain!"
   ]
  },
  {
   "cell_type": "markdown",
   "metadata": {
    "colab_type": "text",
    "id": "n7aPijgHxVeR"
   },
   "source": [
    "## Results"
   ]
  },
  {
   "cell_type": "markdown",
   "metadata": {
    "colab_type": "text",
    "id": "YuBnaYGdxVeU"
   },
   "source": [
    "Let's see what results we have got. \n",
    "\n",
    "We will first see which were the categories that the model most confused with one another. We will try to see if what the model predicted was reasonable or not. In this case the mistakes look reasonable (none of the mistakes seems obviously naive). This is an indicator that our classifier is working correctly. \n",
    "\n",
    "Furthermore, when we plot the confusion matrix, we can see that the distribution is heavily skewed: the model makes the same mistakes over and over again but it rarely confuses other categories. This suggests that it just finds it difficult to distinguish some specific categories between each other; this is normal behaviour."
   ]
  },
  {
   "cell_type": "code",
   "execution_count": null,
   "metadata": {
    "colab": {},
    "colab_type": "code",
    "id": "5LeVmqJ1xVeV",
    "outputId": "30a8c398-0911-4485-d119-662d886086fb"
   },
   "outputs": [],
   "source": [
    "interp = ClassificationInterpretation.from_learner(learn)\n",
    "\n",
    "losses,idxs = interp.top_losses()\n",
    "\n",
    "len(data.valid_ds)==len(losses)==len(idxs)"
   ]
  },
  {
   "cell_type": "code",
   "execution_count": null,
   "metadata": {
    "colab": {},
    "colab_type": "code",
    "id": "sf6F9H8OxVeY",
    "outputId": "c0597a12-338b-4a1f-accb-a00f737dbe95"
   },
   "outputs": [],
   "source": [
    "interp.plot_top_losses(9, figsize=(15,11))"
   ]
  },
  {
   "cell_type": "code",
   "execution_count": null,
   "metadata": {
    "colab": {},
    "colab_type": "code",
    "id": "z0nDPiX2xVea"
   },
   "outputs": [],
   "source": [
    "doc(interp.plot_top_losses)"
   ]
  },
  {
   "cell_type": "code",
   "execution_count": null,
   "metadata": {
    "colab": {},
    "colab_type": "code",
    "id": "BYHdpFraxVec",
    "outputId": "32831778-2bb1-400d-a86e-cfbe9cc9c7f9"
   },
   "outputs": [],
   "source": [
    "interp.plot_confusion_matrix(figsize=(12,12), dpi=60)"
   ]
  },
  {
   "cell_type": "code",
   "execution_count": null,
   "metadata": {
    "colab": {},
    "colab_type": "code",
    "id": "Dccl1ixlxVei",
    "outputId": "eead0761-c57a-4f33-8b45-9787e401c79a"
   },
   "outputs": [],
   "source": [
    "interp.most_confused(min_val=2)"
   ]
  },
  {
   "cell_type": "markdown",
   "metadata": {
    "colab_type": "text",
    "id": "coS6HKhUxVen"
   },
   "source": [
    "## Unfreezing, fine-tuning, and learning rates"
   ]
  },
  {
   "cell_type": "markdown",
   "metadata": {
    "colab_type": "text",
    "id": "u0nZidU6xVep"
   },
   "source": [
    "Since our model is working as we expect it to, we will *unfreeze* our model and train some more."
   ]
  },
  {
   "cell_type": "code",
   "execution_count": null,
   "metadata": {
    "colab": {},
    "colab_type": "code",
    "id": "k3c9AOODxVeq"
   },
   "outputs": [],
   "source": [
    "learn.unfreeze()"
   ]
  },
  {
   "cell_type": "code",
   "execution_count": null,
   "metadata": {
    "colab": {},
    "colab_type": "code",
    "id": "aCEN9s_JxVeu",
    "outputId": "ed4473e5-714b-493e-d6fb-1883e97b5261"
   },
   "outputs": [],
   "source": [
    "learn.fit_one_cycle(1)"
   ]
  },
  {
   "cell_type": "code",
   "execution_count": null,
   "metadata": {
    "colab": {},
    "colab_type": "code",
    "id": "W15Wv969xVe0"
   },
   "outputs": [],
   "source": [
    "learn.load('stage-1');"
   ]
  },
  {
   "cell_type": "code",
   "execution_count": null,
   "metadata": {
    "colab": {},
    "colab_type": "code",
    "id": "mIQMGT1FxVe2",
    "outputId": "023a4239-c6ec-4c6b-c38b-3d7c4edcb82f"
   },
   "outputs": [],
   "source": [
    "learn.lr_find()"
   ]
  },
  {
   "cell_type": "code",
   "execution_count": null,
   "metadata": {
    "colab": {},
    "colab_type": "code",
    "id": "WelAwDffxVe5",
    "outputId": "8cd97de3-8928-4fd3-e97c-a49ada855587"
   },
   "outputs": [],
   "source": [
    "learn.recorder.plot()"
   ]
  },
  {
   "cell_type": "code",
   "execution_count": null,
   "metadata": {
    "colab": {},
    "colab_type": "code",
    "id": "NXloEudJxVe8",
    "outputId": "ddbfa341-55ba-47f1-8424-5ce254b50e4c"
   },
   "outputs": [],
   "source": [
    "learn.unfreeze()\n",
    "learn.fit_one_cycle(2, max_lr=slice(1e-6,1e-4))"
   ]
  },
  {
   "cell_type": "markdown",
   "metadata": {
    "colab_type": "text",
    "id": "NwwAvUBXxVe-"
   },
   "source": [
    "That's a pretty accurate model!"
   ]
  },
  {
   "cell_type": "markdown",
   "metadata": {
    "colab_type": "text",
    "id": "14oXdnoUxVe_"
   },
   "source": [
    "## Training: resnet50"
   ]
  },
  {
   "cell_type": "markdown",
   "metadata": {
    "colab_type": "text",
    "id": "8AgnMO2xxVfB"
   },
   "source": [
    "Now we will train in the same way as before but with one caveat: instead of using resnet34 as our backbone we will use resnet50 (resnet34 is a 34 layer residual network while resnet50 has 50 layers. It will be explained later in the course and you can learn the details in the [resnet paper](https://arxiv.org/pdf/1512.03385.pdf)).\n",
    "\n",
    "Basically, resnet50 usually performs better because it is a deeper network with more parameters. Let's see if we can achieve a higher performance here. To help it along, let's us use larger images too, since that way the network can see more detail. We reduce the batch size a bit since otherwise this larger network will require more GPU memory."
   ]
  },
  {
   "cell_type": "code",
   "execution_count": null,
   "metadata": {
    "colab": {},
    "colab_type": "code",
    "id": "sdRaSBh2xVfC"
   },
   "outputs": [],
   "source": [
    "data = ImageDataBunch.from_name_re(path_img, fnames, pat, ds_tfms=get_transforms(),\n",
    "                                   size=299, bs=bs//2).normalize(imagenet_stats)"
   ]
  },
  {
   "cell_type": "code",
   "execution_count": null,
   "metadata": {
    "colab": {},
    "colab_type": "code",
    "id": "tdBFgppXxVfE"
   },
   "outputs": [],
   "source": [
    "learn = create_cnn(data, models.resnet50, metrics=error_rate)"
   ]
  },
  {
   "cell_type": "code",
   "execution_count": null,
   "metadata": {
    "colab": {},
    "colab_type": "code",
    "id": "39pb9ndzxVfG",
    "outputId": "98a8d46e-25db-4fac-fb99-a73bfe49a558"
   },
   "outputs": [],
   "source": [
    "learn.lr_find()\n",
    "learn.recorder.plot()"
   ]
  },
  {
   "cell_type": "code",
   "execution_count": null,
   "metadata": {
    "colab": {},
    "colab_type": "code",
    "id": "tscmYUH7xVfJ",
    "outputId": "58609e5f-d663-4b82-b8b2-1167f60feb91"
   },
   "outputs": [],
   "source": [
    "learn.fit_one_cycle(8)"
   ]
  },
  {
   "cell_type": "code",
   "execution_count": null,
   "metadata": {
    "colab": {},
    "colab_type": "code",
    "id": "EExzckJKxVfL"
   },
   "outputs": [],
   "source": [
    "learn.save('stage-1-50')"
   ]
  },
  {
   "cell_type": "markdown",
   "metadata": {
    "colab_type": "text",
    "id": "0L_LGF5QxVfR"
   },
   "source": [
    "It's astonishing that it's possible to recognize pet breeds so accurately! Let's see if full fine-tuning helps:"
   ]
  },
  {
   "cell_type": "code",
   "execution_count": null,
   "metadata": {
    "colab": {},
    "colab_type": "code",
    "id": "XwAJbdsNxVfT",
    "outputId": "894d2489-5b4e-442f-b862-e0996e405403"
   },
   "outputs": [],
   "source": [
    "learn.unfreeze()\n",
    "learn.fit_one_cycle(3, max_lr=slice(1e-6,1e-4))"
   ]
  },
  {
   "cell_type": "markdown",
   "metadata": {
    "colab_type": "text",
    "id": "yB7PSgExxVfY"
   },
   "source": [
    "If it doesn't, you can always go back to your previous model."
   ]
  },
  {
   "cell_type": "code",
   "execution_count": null,
   "metadata": {
    "colab": {},
    "colab_type": "code",
    "id": "eykL1cETxVfa"
   },
   "outputs": [],
   "source": [
    "learn.load('stage-1-50');"
   ]
  },
  {
   "cell_type": "code",
   "execution_count": null,
   "metadata": {
    "colab": {},
    "colab_type": "code",
    "id": "ePMmK4O_xVfc"
   },
   "outputs": [],
   "source": [
    "interp = ClassificationInterpretation.from_learner(learn)"
   ]
  },
  {
   "cell_type": "code",
   "execution_count": null,
   "metadata": {
    "colab": {},
    "colab_type": "code",
    "id": "2dvzezucxVfe",
    "outputId": "3fb3f867-9151-4247-a802-912093ec9ce0"
   },
   "outputs": [],
   "source": [
    "interp.most_confused(min_val=2)"
   ]
  },
  {
   "cell_type": "markdown",
   "metadata": {
    "colab_type": "text",
    "id": "zJHCYuAnxVfi"
   },
   "source": [
    "## Other data formats"
   ]
  },
  {
   "cell_type": "code",
   "execution_count": null,
   "metadata": {
    "colab": {},
    "colab_type": "code",
    "id": "Th8KnnkLxVfj",
    "outputId": "14477cb5-5f44-49c2-91b2-f3493c00a164"
   },
   "outputs": [],
   "source": [
    "path = untar_data(URLs.MNIST_SAMPLE); path"
   ]
  },
  {
   "cell_type": "code",
   "execution_count": null,
   "metadata": {
    "colab": {},
    "colab_type": "code",
    "id": "uAr1s3f-xVfl"
   },
   "outputs": [],
   "source": [
    "tfms = get_transforms(do_flip=False)\n",
    "data = ImageDataBunch.from_folder(path, ds_tfms=tfms, size=26)"
   ]
  },
  {
   "cell_type": "code",
   "execution_count": null,
   "metadata": {
    "colab": {},
    "colab_type": "code",
    "id": "8-rwbP-fxVfo",
    "outputId": "2a46fff8-0e18-4a66-963d-5814135cb21c"
   },
   "outputs": [],
   "source": [
    "data.show_batch(rows=3, figsize=(5,5))"
   ]
  },
  {
   "cell_type": "code",
   "execution_count": null,
   "metadata": {
    "colab": {},
    "colab_type": "code",
    "id": "hTsll4RvxVfv",
    "outputId": "95b3df67-2699-46f2-962e-5d304b007e5d"
   },
   "outputs": [],
   "source": [
    "learn = create_cnn(data, models.resnet18, metrics=accuracy)\n",
    "learn.fit(2)"
   ]
  },
  {
   "cell_type": "code",
   "execution_count": null,
   "metadata": {
    "colab": {},
    "colab_type": "code",
    "id": "rI51Ged-xVf3",
    "outputId": "2ae09706-6df9-4873-a2f5-99c3e29b5a59"
   },
   "outputs": [],
   "source": [
    "df = pd.read_csv(path/'labels.csv')\n",
    "df.head()"
   ]
  },
  {
   "cell_type": "code",
   "execution_count": null,
   "metadata": {
    "colab": {},
    "colab_type": "code",
    "id": "shmx9kkIxVf5"
   },
   "outputs": [],
   "source": [
    "data = ImageDataBunch.from_csv(path, ds_tfms=tfms, size=28)"
   ]
  },
  {
   "cell_type": "code",
   "execution_count": null,
   "metadata": {
    "colab": {},
    "colab_type": "code",
    "id": "gDN7fKuhxVf6",
    "outputId": "944e0f87-d060-4e8a-afd0-6526e4d48161"
   },
   "outputs": [],
   "source": [
    "data.show_batch(rows=3, figsize=(5,5))\n",
    "data.classes"
   ]
  },
  {
   "cell_type": "code",
   "execution_count": null,
   "metadata": {
    "colab": {},
    "colab_type": "code",
    "id": "dFyOa95cxVf9",
    "outputId": "be26581d-e74b-4930-f28e-70008f8b3c27"
   },
   "outputs": [],
   "source": [
    "data = ImageDataBunch.from_df(path, df, ds_tfms=tfms, size=24)\n",
    "data.classes"
   ]
  },
  {
   "cell_type": "code",
   "execution_count": null,
   "metadata": {
    "colab": {},
    "colab_type": "code",
    "id": "uPpwSbewxVf_",
    "outputId": "f70d11ef-3537-4571-a9c6-e118f9aedf7d"
   },
   "outputs": [],
   "source": [
    "fn_paths = [path/name for name in df['name']]; fn_paths[:2]"
   ]
  },
  {
   "cell_type": "code",
   "execution_count": null,
   "metadata": {
    "colab": {},
    "colab_type": "code",
    "id": "aYk_ZxcRxVgD",
    "outputId": "eeef566f-7695-4cfc-b7d7-cc6d46df896c"
   },
   "outputs": [],
   "source": [
    "pat = r\"/(\\d)/\\d+\\.png$\"\n",
    "data = ImageDataBunch.from_name_re(path, fn_paths, pat=pat, ds_tfms=tfms, size=24)\n",
    "data.classes"
   ]
  },
  {
   "cell_type": "code",
   "execution_count": null,
   "metadata": {
    "colab": {},
    "colab_type": "code",
    "id": "_TQ9qkEmxVgF",
    "outputId": "c4268780-f8cd-4c4c-bb2f-1a85ac04b626"
   },
   "outputs": [],
   "source": [
    "data = ImageDataBunch.from_name_func(path, fn_paths, ds_tfms=tfms, size=24,\n",
    "        label_func = lambda x: '3' if '/3/' in str(x) else '7')\n",
    "data.classes"
   ]
  },
  {
   "cell_type": "code",
   "execution_count": null,
   "metadata": {
    "colab": {},
    "colab_type": "code",
    "id": "WEyJCr4-xVgI",
    "outputId": "3ddcc13b-9350-46da-8fbc-67e637191f34"
   },
   "outputs": [],
   "source": [
    "labels = [('3' if '/3/' in str(x) else '7') for x in fn_paths]\n",
    "labels[:5]"
   ]
  },
  {
   "cell_type": "code",
   "execution_count": null,
   "metadata": {
    "colab": {},
    "colab_type": "code",
    "id": "1on90mXVxVgK",
    "outputId": "e582f31c-96aa-41e4-e705-711af56940f3"
   },
   "outputs": [],
   "source": [
    "data = ImageDataBunch.from_lists(path, fn_paths, labels=labels, ds_tfms=tfms, size=24)\n",
    "data.classes"
   ]
  },
  {
   "cell_type": "code",
   "execution_count": null,
   "metadata": {
    "colab": {},
    "colab_type": "code",
    "id": "VWV5nrPuxVgL"
   },
   "outputs": [],
   "source": []
  }
 ],
 "metadata": {
  "colab": {
   "collapsed_sections": [
    "n7aPijgHxVeR",
    "coS6HKhUxVen",
    "14oXdnoUxVe_",
    "zJHCYuAnxVfi"
   ],
   "name": "initial fastai model!",
   "provenance": [],
   "toc_visible": true,
   "version": "0.3.2"
  },
  "kernelspec": {
   "display_name": "Python 3",
   "language": "python",
   "name": "python3"
  },
  "language_info": {
   "codemirror_mode": {
    "name": "ipython",
    "version": 3
   },
   "file_extension": ".py",
   "mimetype": "text/x-python",
   "name": "python",
   "nbconvert_exporter": "python",
   "pygments_lexer": "ipython3",
   "version": "3.6.7"
  }
 },
 "nbformat": 4,
 "nbformat_minor": 1
}
